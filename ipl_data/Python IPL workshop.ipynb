{
 "cells": [
  {
   "cell_type": "markdown",
   "metadata": {
    "collapsed": true,
    "scrolled": true
   },
   "source": [
    "# IPL with  Python "
   ]
  },
  {
   "cell_type": "markdown",
   "metadata": {},
   "source": [
    "<img src=\"ipl.jpeg\" height=800, width=800>\n",
    "    \n",
    " "
   ]
  },
  {
   "cell_type": "markdown",
   "metadata": {},
   "source": [
    "# Software Installation\n",
    "\n",
    "\n",
    "## Using pip \n",
    "\n",
    "1)Install Python \n",
    "<br>\n",
    "https://www.python.org/downloads/\n",
    "\n",
    "2.Install python then pip comes default <br>\n",
    "<code> python get-pip.py</code>\n",
    "#### Updating pip\n",
    "##### On linux and MacOS\n",
    "<code> python install -U pip</code>\n",
    "#### Window \n",
    "<code> python -m pip install -U pip</code><br><br>\n",
    "3.Install plotly express <br>\n",
    "    <code> pip install plotly-express </code>\n",
    "    \n",
    "## Using Anaconda: \n",
    "### Windows:\n",
    "    Python and  Anaconda\n",
    "1) https://www.python.org/downloads/\n",
    "\n",
    "2) https://www.anaconda.com/download/\n",
    "<br> \n",
    "3) Install plotly express <br> <br>\n",
    "\n",
    "<code> conda install -c plotly plotly_express <code>\n",
    "\n",
    "\n",
    "### Mac os:\n",
    "    Same as Windows\n",
    "\n",
    "### Linux\n",
    "#### python comes with preinstalled in ubuntu 14+\n",
    "1)Download anaconda\n",
    "https://www.anaconda.com/download/ <br>\n",
    "2)<code>chmod +x </code><br>\n",
    "3)Go to home directory\n",
    "<code>cd ~ </code>\n",
    "<code>wget https://repo.continuum.io/archive/Anaconda3-4.2.0-Linux-x86_64.sh <br>\n",
    "bash Anaconda3-4.2.0-Linux-x86_64.sh -b -p ~/anaconda  <br>\n",
    "rm Anaconda3-4.2.0-Linux-x86_64.sh<br>\n",
    "echo 'export PATH=\"~/anaconda/bin:$PATH\"' >> ~/.bashrc     \n",
    "source .bashrc\n",
    "conda update conda</code>\n"
   ]
  },
  {
   "cell_type": "markdown",
   "metadata": {},
   "source": [
    "## Checking version of software"
   ]
  },
  {
   "cell_type": "code",
   "execution_count": 183,
   "metadata": {},
   "outputs": [
    {
     "name": "stdout",
     "output_type": "stream",
     "text": [
      "Python: 3.7.1 (default, Dec 14 2018, 19:28:38) \n",
      "[GCC 7.3.0]\n",
      "numpy: <module 'numpy.version' from '/home/pradip/.local/lib/python3.7/site-packages/numpy/version.py'>\n",
      "matplotlib: 3.0.2\n",
      "pandas: 0.23.4\n",
      "plotly: 3.10.0\n"
     ]
    }
   ],
   "source": [
    "# Python version\n",
    "import sys\n",
    "print('Python: {}'.format(sys.version))\n",
    "# numpy\n",
    "import numpy\n",
    "print('numpy: {}'.format(numpy.version))\n",
    "# matplotlib\n",
    "import matplotlib\n",
    "print('matplotlib: {}'.format(matplotlib.__version__))\n",
    "# pandas\n",
    "import pandas\n",
    "print('pandas: {}'.format(pandas.__version__))\n",
    "# Data visualizaion\n",
    "import plotly\n",
    "import plotly_express as px\n",
    "print(\"plotly:\",plotly.__version__)\n"
   ]
  },
  {
   "cell_type": "code",
   "execution_count": null,
   "metadata": {},
   "outputs": [],
   "source": []
  },
  {
   "cell_type": "markdown",
   "metadata": {},
   "source": [
    "#### Arthmatic operation:\n"
   ]
  },
  {
   "cell_type": "code",
   "execution_count": 184,
   "metadata": {},
   "outputs": [
    {
     "data": {
      "text/plain": [
       "235"
      ]
     },
     "execution_count": 184,
     "metadata": {},
     "output_type": "execute_result"
    }
   ],
   "source": [
    "12+223"
   ]
  },
  {
   "cell_type": "code",
   "execution_count": 185,
   "metadata": {},
   "outputs": [
    {
     "data": {
      "text/plain": [
       "11"
      ]
     },
     "execution_count": 185,
     "metadata": {},
     "output_type": "execute_result"
    }
   ],
   "source": [
    "34-23"
   ]
  },
  {
   "cell_type": "code",
   "execution_count": 186,
   "metadata": {},
   "outputs": [
    {
     "data": {
      "text/plain": [
       "108"
      ]
     },
     "execution_count": 186,
     "metadata": {},
     "output_type": "execute_result"
    }
   ],
   "source": [
    "54*2"
   ]
  },
  {
   "cell_type": "code",
   "execution_count": 187,
   "metadata": {},
   "outputs": [
    {
     "data": {
      "text/plain": [
       "21.0"
      ]
     },
     "execution_count": 187,
     "metadata": {},
     "output_type": "execute_result"
    }
   ],
   "source": [
    "42/2"
   ]
  },
  {
   "cell_type": "code",
   "execution_count": 188,
   "metadata": {},
   "outputs": [
    {
     "data": {
      "text/plain": [
       "1728"
      ]
     },
     "execution_count": 188,
     "metadata": {},
     "output_type": "execute_result"
    }
   ],
   "source": [
    "12**3"
   ]
  },
  {
   "cell_type": "code",
   "execution_count": 189,
   "metadata": {},
   "outputs": [
    {
     "data": {
      "text/plain": [
       "3"
      ]
     },
     "execution_count": 189,
     "metadata": {},
     "output_type": "execute_result"
    }
   ],
   "source": [
    "45%6"
   ]
  },
  {
   "cell_type": "code",
   "execution_count": 190,
   "metadata": {},
   "outputs": [
    {
     "data": {
      "text/plain": [
       "97.0"
      ]
     },
     "execution_count": 190,
     "metadata": {},
     "output_type": "execute_result"
    }
   ],
   "source": [
    "23+43*4/2-12"
   ]
  },
  {
   "cell_type": "markdown",
   "metadata": {},
   "source": [
    "Assignment "
   ]
  },
  {
   "cell_type": "code",
   "execution_count": 191,
   "metadata": {
    "scrolled": true
   },
   "outputs": [
    {
     "data": {
      "text/plain": [
       "3"
      ]
     },
     "execution_count": 191,
     "metadata": {},
     "output_type": "execute_result"
    }
   ],
   "source": [
    "c=15\n",
    "d=4\n",
    "c%d"
   ]
  },
  {
   "cell_type": "markdown",
   "metadata": {},
   "source": [
    "## Data type"
   ]
  },
  {
   "cell_type": "code",
   "execution_count": 192,
   "metadata": {
    "scrolled": true
   },
   "outputs": [
    {
     "name": "stdout",
     "output_type": "stream",
     "text": [
      "Indian Premier League\n",
      "24\n"
     ]
    }
   ],
   "source": [
    " #str \"abc\"\n",
    "12 #int\n",
    "2.4 #float\n",
    "#Numbers likes foats, integers\n",
    "#Boolean values like  True, False\n",
    "title= 'Indian Premier League'\n",
    "print(title)\n",
    "title=12\n",
    "print(title*2)\n"
   ]
  },
  {
   "cell_type": "code",
   "execution_count": 193,
   "metadata": {},
   "outputs": [
    {
     "name": "stdout",
     "output_type": "stream",
     "text": [
      "46\n",
      "-22\n",
      "408\n",
      "4922235242952026704037113243122008064\n",
      "0.35294117647058826\n",
      "12\n"
     ]
    }
   ],
   "source": [
    "a=12\n",
    "b=34\n",
    "print(a+b)\n",
    "print(a-b)\n",
    "print(a*b)\n",
    "print(a**b)\n",
    "print(a/b)\n",
    "print(a%b)"
   ]
  },
  {
   "cell_type": "code",
   "execution_count": null,
   "metadata": {},
   "outputs": [],
   "source": []
  },
  {
   "cell_type": "code",
   "execution_count": 194,
   "metadata": {},
   "outputs": [
    {
     "data": {
      "text/plain": [
       "16"
      ]
     },
     "execution_count": 194,
     "metadata": {},
     "output_type": "execute_result"
    }
   ],
   "source": [
    "name= 2**4\n",
    "name"
   ]
  },
  {
   "cell_type": "markdown",
   "metadata": {},
   "source": [
    "## String operation"
   ]
  },
  {
   "cell_type": "markdown",
   "metadata": {},
   "source": [
    "string addition "
   ]
  },
  {
   "cell_type": "code",
   "execution_count": 195,
   "metadata": {},
   "outputs": [
    {
     "data": {
      "text/plain": [
       "'We are Understanding IPL with help of python'"
      ]
     },
     "execution_count": 195,
     "metadata": {},
     "output_type": "execute_result"
    }
   ],
   "source": [
    "a=\"We are \"\n",
    "b=\"Understanding IPL \"\n",
    "c=\"with help of python\"\n",
    "a+b+c"
   ]
  },
  {
   "cell_type": "markdown",
   "metadata": {},
   "source": [
    "String multiplication"
   ]
  },
  {
   "cell_type": "code",
   "execution_count": 196,
   "metadata": {
    "scrolled": true
   },
   "outputs": [],
   "source": [
    "name=' IPL '\n"
   ]
  },
  {
   "cell_type": "code",
   "execution_count": 197,
   "metadata": {
    "scrolled": true
   },
   "outputs": [
    {
     "data": {
      "text/plain": [
       "' IPL  IPL  IPL  IPL  IPL  IPL '"
      ]
     },
     "execution_count": 197,
     "metadata": {},
     "output_type": "execute_result"
    }
   ],
   "source": [
    "name*6"
   ]
  },
  {
   "cell_type": "code",
   "execution_count": 198,
   "metadata": {
    "scrolled": true
   },
   "outputs": [
    {
     "data": {
      "text/plain": [
       "True"
      ]
     },
     "execution_count": 198,
     "metadata": {},
     "output_type": "execute_result"
    }
   ],
   "source": [
    "'I' in name"
   ]
  },
  {
   "cell_type": "code",
   "execution_count": 199,
   "metadata": {
    "scrolled": true
   },
   "outputs": [
    {
     "data": {
      "text/plain": [
       "False"
      ]
     },
     "execution_count": 199,
     "metadata": {},
     "output_type": "execute_result"
    }
   ],
   "source": [
    "'l' in name"
   ]
  },
  {
   "cell_type": "markdown",
   "metadata": {},
   "source": [
    "## List"
   ]
  },
  {
   "cell_type": "code",
   "execution_count": 200,
   "metadata": {},
   "outputs": [],
   "source": [
    "team_ranking = [1, 2, 3, 4, 5, 6, 7, 8]\n",
    "team_name = ['MI', 'CSK', 'DC', 'SH', 'KKR','KXIP','RR', 'RCB']\n",
    "\n",
    "zipped_list = zip(team_ranking, team_name)\n",
    "\n",
    "#print(list(zipped_list))"
   ]
  },
  {
   "cell_type": "code",
   "execution_count": 201,
   "metadata": {},
   "outputs": [],
   "source": [
    "#print(list(zipped_list))"
   ]
  },
  {
   "cell_type": "code",
   "execution_count": 202,
   "metadata": {},
   "outputs": [
    {
     "name": "stdout",
     "output_type": "stream",
     "text": [
      "(1, 2, 3, 4, 5, 6, 7, 8)\n",
      "('MI', 'CSK', 'DC', 'SH', 'KKR', 'KXIP', 'RR', 'RCB')\n"
     ]
    }
   ],
   "source": [
    "#zipped_list\n",
    "list_a, list_b = zip(*zipped_list)\n",
    "print(list_a) \n",
    "print(list_b)"
   ]
  },
  {
   "cell_type": "code",
   "execution_count": 203,
   "metadata": {
    "scrolled": true
   },
   "outputs": [
    {
     "data": {
      "text/plain": [
       "[[4, 5, 6, 7], [3, 4, 5, 6]]"
      ]
     },
     "execution_count": 203,
     "metadata": {},
     "output_type": "execute_result"
    }
   ],
   "source": [
    "a = 'HAVE A'\n",
    "b = 'wonderful day'\n",
    "my_list = ['my', 'list', a, b]\n",
    "my_list3=[1,2,3]\n",
    "my_list2 = [[4,5,6,7], [3,4,5,6]]\n",
    "my_list2"
   ]
  },
  {
   "cell_type": "code",
   "execution_count": 204,
   "metadata": {},
   "outputs": [
    {
     "data": {
      "text/plain": [
       "[1, 2, 3]"
      ]
     },
     "execution_count": 204,
     "metadata": {},
     "output_type": "execute_result"
    }
   ],
   "source": [
    "my_list3"
   ]
  },
  {
   "cell_type": "code",
   "execution_count": 205,
   "metadata": {},
   "outputs": [
    {
     "name": "stdout",
     "output_type": "stream",
     "text": [
      "[[4, 5, 6, 7], [3, 4, 5, 6]]\n"
     ]
    }
   ],
   "source": [
    "print(my_list2)"
   ]
  },
  {
   "cell_type": "code",
   "execution_count": 206,
   "metadata": {
    "scrolled": true
   },
   "outputs": [
    {
     "name": "stdout",
     "output_type": "stream",
     "text": [
      "list\n",
      "list\n"
     ]
    }
   ],
   "source": [
    "print(my_list[1])\n",
    "print(my_list[-3])\n",
    "#Slice\n"
   ]
  },
  {
   "cell_type": "code",
   "execution_count": 207,
   "metadata": {
    "scrolled": true
   },
   "outputs": [
    {
     "name": "stdout",
     "output_type": "stream",
     "text": [
      "['list', 'HAVE A']\n",
      "['list', 'HAVE A', 'wonderful day']\n",
      "['my', 'list', 'HAVE A']\n",
      "['my', 'list', 'HAVE A', 'wonderful day']\n"
     ]
    }
   ],
   "source": [
    "print(my_list[1:3])\n",
    "print(my_list[1:])\n",
    "print(my_list[:3])\n",
    "print(my_list[:])\n",
    "#Subset Lists of Lists\n"
   ]
  },
  {
   "cell_type": "code",
   "execution_count": 208,
   "metadata": {
    "scrolled": true
   },
   "outputs": [
    {
     "name": "stdout",
     "output_type": "stream",
     "text": [
      "3\n",
      "[3, 4]\n"
     ]
    }
   ],
   "source": [
    "print(my_list2[1][0])\n",
    "print(my_list2[1][:2])"
   ]
  },
  {
   "cell_type": "code",
   "execution_count": 209,
   "metadata": {
    "scrolled": true
   },
   "outputs": [
    {
     "name": "stdout",
     "output_type": "stream",
     "text": [
      "['my', 'list', 'HAVE A', 'wonderful day', 'my', 'list', 'HAVE A', 'wonderful day']\n"
     ]
    }
   ],
   "source": [
    "new_list=my_list + my_list\n",
    "print(new_list)"
   ]
  },
  {
   "cell_type": "code",
   "execution_count": 210,
   "metadata": {
    "scrolled": true
   },
   "outputs": [
    {
     "data": {
      "text/plain": [
       "['my',\n",
       " 'list',\n",
       " 'HAVE A',\n",
       " 'wonderful day',\n",
       " 'my',\n",
       " 'list',\n",
       " 'HAVE A',\n",
       " 'wonderful day']"
      ]
     },
     "execution_count": 210,
     "metadata": {},
     "output_type": "execute_result"
    }
   ],
   "source": [
    "my_list * 2"
   ]
  },
  {
   "cell_type": "code",
   "execution_count": 211,
   "metadata": {},
   "outputs": [
    {
     "data": {
      "text/plain": [
       "[1, 2, 3, 4, 5, 6]"
      ]
     },
     "execution_count": 211,
     "metadata": {},
     "output_type": "execute_result"
    }
   ],
   "source": [
    "x = [1, 2, 3]\n",
    "x.extend([4, 5, 6])\n",
    "x"
   ]
  },
  {
   "cell_type": "code",
   "execution_count": 212,
   "metadata": {
    "scrolled": true
   },
   "outputs": [
    {
     "data": {
      "text/plain": [
       "4"
      ]
     },
     "execution_count": 212,
     "metadata": {},
     "output_type": "execute_result"
    }
   ],
   "source": [
    "len(my_list)"
   ]
  },
  {
   "cell_type": "code",
   "execution_count": 213,
   "metadata": {
    "scrolled": true
   },
   "outputs": [
    {
     "data": {
      "text/plain": [
       "2"
      ]
     },
     "execution_count": 213,
     "metadata": {},
     "output_type": "execute_result"
    }
   ],
   "source": [
    "len(my_list2)"
   ]
  },
  {
   "cell_type": "code",
   "execution_count": 214,
   "metadata": {
    "scrolled": true
   },
   "outputs": [
    {
     "name": "stdout",
     "output_type": "stream",
     "text": [
      "['my', 'list', 'HAVE A', 'wonderful day']\n",
      "2\n"
     ]
    }
   ],
   "source": [
    "print(my_list)\n",
    "print(my_list.index(a))"
   ]
  },
  {
   "cell_type": "code",
   "execution_count": 215,
   "metadata": {
    "scrolled": true
   },
   "outputs": [
    {
     "name": "stdout",
     "output_type": "stream",
     "text": [
      "['RR', 'DC', 'CSK', 'CSK', 'KKR', 'MI', 'KKR', 'MI', 'SH', 'MI', 'CSK', 'MI']\n",
      "KKR winners for  2\n"
     ]
    }
   ],
   "source": [
    "ipl_winner_list=[\"RR\",\"DC\",\"CSK\",'CSK','KKR','MI','KKR', 'MI', 'SH', 'MI','CSK', 'MI']\n",
    "print(ipl_winner_list)\n",
    "print(\"KKR winners for \", ipl_winner_list.count('KKR'))"
   ]
  },
  {
   "cell_type": "code",
   "execution_count": 216,
   "metadata": {
    "scrolled": true
   },
   "outputs": [
    {
     "name": "stdout",
     "output_type": "stream",
     "text": [
      "['RR', 'DC', 'CSK', 'CSK', 'KKR', 'MI', 'KKR', 'MI', 'SH', 'MI', 'CSK', 'MI', 'BB']\n"
     ]
    }
   ],
   "source": [
    "ipl_winner_list.append('BB')\n",
    "print(ipl_winner_list)"
   ]
  },
  {
   "cell_type": "code",
   "execution_count": 217,
   "metadata": {
    "scrolled": true
   },
   "outputs": [
    {
     "data": {
      "text/plain": [
       "['RR', 'DC', 'CSK', 'CSK', 'KKR', 'MI', 'KKR', 'MI', 'SH', 'MI', 'CSK', 'MI']"
      ]
     },
     "metadata": {},
     "output_type": "display_data"
    }
   ],
   "source": [
    "ipl_winner_list.remove('BB')\n",
    "display(ipl_winner_list)"
   ]
  },
  {
   "cell_type": "code",
   "execution_count": 218,
   "metadata": {
    "scrolled": true
   },
   "outputs": [
    {
     "data": {
      "text/plain": [
       "['MI', 'CSK', 'MI', 'SH', 'MI', 'KKR', 'MI', 'KKR', 'CSK', 'CSK', 'DC', 'RR']"
      ]
     },
     "execution_count": 218,
     "metadata": {},
     "output_type": "execute_result"
    }
   ],
   "source": [
    "a=ipl_winner_list.reverse()\n",
    "a\n",
    "ipl_winner_list"
   ]
  },
  {
   "cell_type": "code",
   "execution_count": 219,
   "metadata": {
    "scrolled": true
   },
   "outputs": [
    {
     "data": {
      "text/plain": [
       "['MI', 'CSK', 'MI', 'SH', 'MI', 'KKR', 'MI', 'KKR', 'CSK', 'CSK', 'DC']"
      ]
     },
     "execution_count": 219,
     "metadata": {},
     "output_type": "execute_result"
    }
   ],
   "source": [
    "ipl_winner_list.pop()\n",
    "ipl_winner_list"
   ]
  },
  {
   "cell_type": "code",
   "execution_count": 220,
   "metadata": {
    "scrolled": true
   },
   "outputs": [
    {
     "data": {
      "text/plain": [
       "['CSK', 'CSK', 'CSK', 'DC', 'KKR', 'KKR', 'MI', 'MI', 'MI', 'MI', 'SH']"
      ]
     },
     "execution_count": 220,
     "metadata": {},
     "output_type": "execute_result"
    }
   ],
   "source": [
    "ipl_winner_list.sort()\n",
    "ipl_winner_list"
   ]
  },
  {
   "cell_type": "code",
   "execution_count": 221,
   "metadata": {
    "scrolled": true
   },
   "outputs": [
    {
     "data": {
      "text/plain": [
       "'won IPL titl'"
      ]
     },
     "execution_count": 221,
     "metadata": {},
     "output_type": "execute_result"
    }
   ],
   "source": [
    "my_string='MI won IPL title 4 times'\n",
    "my_string[3:15]\n"
   ]
  },
  {
   "cell_type": "code",
   "execution_count": 222,
   "metadata": {
    "scrolled": true
   },
   "outputs": [
    {
     "data": {
      "text/plain": [
       "'on IP'"
      ]
     },
     "execution_count": 222,
     "metadata": {},
     "output_type": "execute_result"
    }
   ],
   "source": [
    "my_string[4:9]"
   ]
  },
  {
   "cell_type": "code",
   "execution_count": 223,
   "metadata": {
    "scrolled": true
   },
   "outputs": [
    {
     "data": {
      "text/plain": [
       "'MI WON IPL TITLE 4 TIMES'"
      ]
     },
     "execution_count": 223,
     "metadata": {},
     "output_type": "execute_result"
    }
   ],
   "source": [
    "up=my_string.upper()\n",
    "up"
   ]
  },
  {
   "cell_type": "code",
   "execution_count": 224,
   "metadata": {
    "scrolled": true
   },
   "outputs": [
    {
     "data": {
      "text/plain": [
       "'mi won ipl title 4 times'"
      ]
     },
     "execution_count": 224,
     "metadata": {},
     "output_type": "execute_result"
    }
   ],
   "source": [
    "low=my_string.lower()\n",
    "low"
   ]
  },
  {
   "cell_type": "code",
   "execution_count": 225,
   "metadata": {
    "scrolled": true
   },
   "outputs": [
    {
     "data": {
      "text/plain": [
       "1"
      ]
     },
     "execution_count": 225,
     "metadata": {},
     "output_type": "execute_result"
    }
   ],
   "source": [
    "cout=my_string.count('o')\n",
    "cout"
   ]
  },
  {
   "cell_type": "code",
   "execution_count": 226,
   "metadata": {
    "scrolled": true
   },
   "outputs": [
    {
     "data": {
      "text/plain": [
       "'CSK won IPL title 2 times'"
      ]
     },
     "execution_count": 226,
     "metadata": {},
     "output_type": "execute_result"
    }
   ],
   "source": [
    "\n",
    "my_string=my_string.replace('MI', 'CSK')\n",
    "my_string=my_string.replace('4','2')\n",
    "my_string"
   ]
  },
  {
   "cell_type": "markdown",
   "metadata": {},
   "source": [
    "## Dictionary\n"
   ]
  },
  {
   "cell_type": "code",
   "execution_count": 227,
   "metadata": {},
   "outputs": [],
   "source": [
    "# empty dictionary\n",
    "my_dict = {}\n",
    "\n",
    "# dictionary with string key\n",
    "ipl_sixes = {'russell':62, 'gayle':34,'Pandya':29,'pant':27,'ABD':26,'rahul':25}\n",
    "\n",
    "# dictionary with integer key\n",
    "ipl_bolwer_rank = {1:'Imran Tahir',2:'Kagiso Rabada',3:'Deepak Chahar',4: 'Shreyas Gopal',5:' Jasprit Bumrah',6:' Khaleel Ahmed',7:' Mohammed Shami',8:' Yuzvendra Chahal',9:'Rashid Khan',10:' Harbhajan Singh'}\n",
    "\n",
    "# using dict()\n",
    "ipl_team_rank  = dict([(1,'MI'), (2,'CSK'), (3,'DC'), (4,'SH'), (5,'KKR'),(6,'KXIP'),(7,'RR'),(8,'RCB')])"
   ]
  },
  {
   "cell_type": "code",
   "execution_count": 228,
   "metadata": {},
   "outputs": [
    {
     "data": {
      "text/plain": [
       "62"
      ]
     },
     "execution_count": 228,
     "metadata": {},
     "output_type": "execute_result"
    }
   ],
   "source": [
    "ipl_sixes['russell']"
   ]
  },
  {
   "cell_type": "code",
   "execution_count": 229,
   "metadata": {},
   "outputs": [
    {
     "data": {
      "text/plain": [
       "'Shreyas Gopal'"
      ]
     },
     "execution_count": 229,
     "metadata": {},
     "output_type": "execute_result"
    }
   ],
   "source": [
    "ipl_bolwer_rank[4]"
   ]
  },
  {
   "cell_type": "code",
   "execution_count": 230,
   "metadata": {},
   "outputs": [
    {
     "data": {
      "text/plain": [
       "'MI'"
      ]
     },
     "execution_count": 230,
     "metadata": {},
     "output_type": "execute_result"
    }
   ],
   "source": [
    "ipl_team_rank[1]"
   ]
  },
  {
   "cell_type": "markdown",
   "metadata": {},
   "source": [
    "## Loops"
   ]
  },
  {
   "cell_type": "code",
   "execution_count": 231,
   "metadata": {
    "scrolled": true
   },
   "outputs": [
    {
     "name": "stdout",
     "output_type": "stream",
     "text": [
      "0\n",
      "1\n",
      "2\n",
      "3\n",
      "4\n",
      "5\n",
      "6\n",
      "7\n",
      "8\n",
      "9\n"
     ]
    }
   ],
   "source": [
    "for i in range(0,10):\n",
    "    print(i)"
   ]
  },
  {
   "cell_type": "code",
   "execution_count": 232,
   "metadata": {
    "scrolled": true
   },
   "outputs": [
    {
     "name": "stdout",
     "output_type": "stream",
     "text": [
      "1\n",
      "3\n",
      "5\n",
      "7\n",
      "9\n"
     ]
    }
   ],
   "source": [
    "for i in range(1,10,2):\n",
    "    print(i)"
   ]
  },
  {
   "cell_type": "code",
   "execution_count": 233,
   "metadata": {
    "scrolled": true
   },
   "outputs": [
    {
     "name": "stdout",
     "output_type": "stream",
     "text": [
      "0\n",
      "1\n",
      "4\n",
      "9\n",
      "16\n"
     ]
    }
   ],
   "source": [
    "for x in range(5):\n",
    "    print(x**2)"
   ]
  },
  {
   "cell_type": "code",
   "execution_count": 234,
   "metadata": {
    "scrolled": true
   },
   "outputs": [
    {
     "name": "stdout",
     "output_type": "stream",
     "text": [
      "I love to watching play Virat Kohli\n",
      "I love to watching play KL Rahul\n",
      "I love to watching play  Jasprit Bumrah\n"
     ]
    }
   ],
   "source": [
    "names=['Virat Kohli','KL Rahul',' Jasprit Bumrah']\n",
    "for i in names:\n",
    "    print(\"I love to watching play \"+i)"
   ]
  },
  {
   "cell_type": "code",
   "execution_count": 235,
   "metadata": {
    "scrolled": true
   },
   "outputs": [],
   "source": [
    "count = 0\n",
    "while count >5  :\n",
    "    print(count)\n",
    "    count += 1"
   ]
  },
  {
   "cell_type": "code",
   "execution_count": 236,
   "metadata": {
    "scrolled": true
   },
   "outputs": [
    {
     "name": "stdout",
     "output_type": "stream",
     "text": [
      "0\n",
      "1\n",
      "2\n",
      "3\n",
      "4\n",
      "exit value 5\n"
     ]
    }
   ],
   "source": [
    "count=0\n",
    "while(count<5):\n",
    "    print(count)\n",
    "    count +=1\n",
    "else:\n",
    "    print(\"exit value %d\" %(count))"
   ]
  },
  {
   "cell_type": "code",
   "execution_count": 237,
   "metadata": {
    "scrolled": true
   },
   "outputs": [
    {
     "name": "stdout",
     "output_type": "stream",
     "text": [
      "this is else part 1\n",
      "this is else part 2\n",
      "this is else part 3\n",
      "this is else part 4\n",
      "5\n",
      "this is else part 6\n",
      "this is else part 7\n",
      "this is else part 8\n",
      "this is else part 9\n"
     ]
    }
   ],
   "source": [
    "for i in range(1, 10):\n",
    "    if(i%5==0):\n",
    "        print(i)\n",
    "    else:\n",
    "        print(\"this is else part\",i)"
   ]
  },
  {
   "cell_type": "code",
   "execution_count": 238,
   "metadata": {
    "scrolled": true
   },
   "outputs": [
    {
     "name": "stdout",
     "output_type": "stream",
     "text": [
      " is even 10\n",
      " is odd 11\n",
      " is even 12\n",
      " is odd 13\n",
      " is even 14\n",
      " is odd 15\n",
      " is even 16\n",
      " is odd 17\n",
      " is even 18\n",
      " is odd 19\n"
     ]
    }
   ],
   "source": [
    "for i in range(10,20):\n",
    "    if(i%2==0):\n",
    "        print(\" is even\",i)\n",
    "    else:\n",
    "        print(\" is odd\",i)"
   ]
  },
  {
   "cell_type": "code",
   "execution_count": 239,
   "metadata": {
    "scrolled": true
   },
   "outputs": [
    {
     "name": "stdout",
     "output_type": "stream",
     "text": [
      "1 * 1 = 1\n",
      "1 * 2 = 1\n",
      "2 * 1 = 2\n",
      "2 * 2 = 4\n"
     ]
    }
   ],
   "source": [
    "for x in range(1, 3):\n",
    "    for y in range(1, 3):\n",
    "        print('%d * %d = %d' % (x, y, x**y))"
   ]
  },
  {
   "cell_type": "markdown",
   "metadata": {},
   "source": [
    "### Pass Continue break"
   ]
  },
  {
   "cell_type": "code",
   "execution_count": 240,
   "metadata": {},
   "outputs": [
    {
     "name": "stdout",
     "output_type": "stream",
     "text": [
      "c\n",
      "The end\n"
     ]
    }
   ],
   "source": [
    "for val in \"I am coder\":\n",
    "    if val == \"c\":\n",
    "        #break\n",
    "        #continue\n",
    "        pass\n",
    "        print(val)\n",
    "print(\"The end\")"
   ]
  },
  {
   "cell_type": "markdown",
   "metadata": {},
   "source": [
    "## Function\n"
   ]
  },
  {
   "cell_type": "code",
   "execution_count": 241,
   "metadata": {
    "scrolled": true
   },
   "outputs": [],
   "source": [
    "def add(a,b):\n",
    "  return a + b"
   ]
  },
  {
   "cell_type": "code",
   "execution_count": 242,
   "metadata": {
    "scrolled": true
   },
   "outputs": [
    {
     "data": {
      "text/plain": [
       "13"
      ]
     },
     "execution_count": 242,
     "metadata": {},
     "output_type": "execute_result"
    }
   ],
   "source": [
    "add(7,6)"
   ]
  },
  {
   "cell_type": "code",
   "execution_count": 243,
   "metadata": {
    "scrolled": true
   },
   "outputs": [
    {
     "data": {
      "text/plain": [
       "8"
      ]
     },
     "execution_count": 243,
     "metadata": {},
     "output_type": "execute_result"
    }
   ],
   "source": [
    "def cube(a):\n",
    "    a=a*a*a\n",
    "    return a\n",
    "cube(2)"
   ]
  },
  {
   "cell_type": "markdown",
   "metadata": {},
   "source": [
    "user input and calculate nth fibonacci number"
   ]
  },
  {
   "cell_type": "code",
   "execution_count": 244,
   "metadata": {},
   "outputs": [
    {
     "name": "stdout",
     "output_type": "stream",
     "text": [
      "enter number : 66\n"
     ]
    }
   ],
   "source": [
    "inp=input(\"enter number : \")"
   ]
  },
  {
   "cell_type": "code",
   "execution_count": 245,
   "metadata": {},
   "outputs": [
    {
     "data": {
      "text/plain": [
       "66"
      ]
     },
     "execution_count": 245,
     "metadata": {},
     "output_type": "execute_result"
    }
   ],
   "source": [
    "a=int(inp)  \n",
    "a"
   ]
  },
  {
   "cell_type": "code",
   "execution_count": 246,
   "metadata": {},
   "outputs": [
    {
     "name": "stdout",
     "output_type": "stream",
     "text": [
      "the 3 term of fibonacci is : 1\n",
      "the 4 term of fibonacci is : 2\n",
      "the 5 term of fibonacci is : 3\n",
      "the 6 term of fibonacci is : 5\n",
      "the 7 term of fibonacci is : 8\n",
      "the 8 term of fibonacci is : 13\n",
      "the 9 term of fibonacci is : 21\n",
      "the 10 term of fibonacci is : 34\n",
      "the 11 term of fibonacci is : 55\n",
      "the 12 term of fibonacci is : 89\n",
      "the 13 term of fibonacci is : 144\n",
      "the 14 term of fibonacci is : 233\n",
      "the 15 term of fibonacci is : 377\n",
      "the 16 term of fibonacci is : 610\n",
      "the 17 term of fibonacci is : 987\n",
      "the 18 term of fibonacci is : 1597\n",
      "the 19 term of fibonacci is : 2584\n",
      "the 20 term of fibonacci is : 4181\n",
      "the 21 term of fibonacci is : 6765\n",
      "the 22 term of fibonacci is : 10946\n",
      "the 23 term of fibonacci is : 17711\n",
      "the 24 term of fibonacci is : 28657\n",
      "the 25 term of fibonacci is : 46368\n",
      "the 26 term of fibonacci is : 75025\n",
      "the 27 term of fibonacci is : 121393\n",
      "the 28 term of fibonacci is : 196418\n",
      "the 29 term of fibonacci is : 317811\n",
      "the 30 term of fibonacci is : 514229\n",
      "the 31 term of fibonacci is : 832040\n",
      "the 32 term of fibonacci is : 1346269\n",
      "the 33 term of fibonacci is : 2178309\n",
      "the 34 term of fibonacci is : 3524578\n",
      "the 35 term of fibonacci is : 5702887\n",
      "the 36 term of fibonacci is : 9227465\n",
      "the 37 term of fibonacci is : 14930352\n",
      "the 38 term of fibonacci is : 24157817\n",
      "the 39 term of fibonacci is : 39088169\n",
      "the 40 term of fibonacci is : 63245986\n",
      "the 41 term of fibonacci is : 102334155\n",
      "the 42 term of fibonacci is : 165580141\n",
      "the 43 term of fibonacci is : 267914296\n",
      "the 44 term of fibonacci is : 433494437\n",
      "the 45 term of fibonacci is : 701408733\n",
      "the 46 term of fibonacci is : 1134903170\n",
      "the 47 term of fibonacci is : 1836311903\n",
      "the 48 term of fibonacci is : 2971215073\n",
      "the 49 term of fibonacci is : 4807526976\n",
      "the 50 term of fibonacci is : 7778742049\n",
      "the 51 term of fibonacci is : 12586269025\n",
      "the 52 term of fibonacci is : 20365011074\n",
      "the 53 term of fibonacci is : 32951280099\n",
      "the 54 term of fibonacci is : 53316291173\n",
      "the 55 term of fibonacci is : 86267571272\n",
      "the 56 term of fibonacci is : 139583862445\n",
      "the 57 term of fibonacci is : 225851433717\n",
      "the 58 term of fibonacci is : 365435296162\n",
      "the 59 term of fibonacci is : 591286729879\n",
      "the 60 term of fibonacci is : 956722026041\n",
      "the 61 term of fibonacci is : 1548008755920\n",
      "the 62 term of fibonacci is : 2504730781961\n",
      "the 63 term of fibonacci is : 4052739537881\n",
      "the 64 term of fibonacci is : 6557470319842\n",
      "the 65 term of fibonacci is : 10610209857723\n",
      "the 66 term of fibonacci is : 17167680177565\n",
      "the 67 term of fibonacci is : 27777890035288\n",
      "the 68 term of fibonacci is : 44945570212853\n"
     ]
    }
   ],
   "source": [
    "first=0;second=1\n",
    "n=0;\n",
    "for i in range(a):\n",
    "    n=first+second;\n",
    "    first=second;\n",
    "    second=n;\n",
    "    print(\"the \"+str(i+3)+\" term of fibonacci is : \"+str(n)) \n",
    "    #print(\"The\",i+3,\"term of fibonacci is :\",n) \n",
    "\n",
    "    \n",
    "    "
   ]
  },
  {
   "cell_type": "markdown",
   "metadata": {
    "collapsed": true,
    "scrolled": true
   },
   "source": [
    "##  File I/O"
   ]
  },
  {
   "cell_type": "code",
   "execution_count": 247,
   "metadata": {
    "scrolled": true
   },
   "outputs": [
    {
     "name": "stdout",
     "output_type": "stream",
     "text": [
      "How are you ?\n",
      "\n"
     ]
    }
   ],
   "source": [
    "dat=input(\"How are you ?\\n\")"
   ]
  },
  {
   "cell_type": "code",
   "execution_count": 248,
   "metadata": {},
   "outputs": [],
   "source": [
    "#open file\n",
    "fo = open(\"ipl_team.txt\", \"w\")\n",
    "fo.write( \"The Indian Premier League (IPL) is a professional Twenty20 cricket league in India contested during March or April and May of every year by eight teams representing eight different cities in India.[3] The league was founded by the Board of Control for Cricket in India (BCCI) in 2008. IPL has an exclusive window in ICC Future Tours Programme.[4] The IPL is the most-attended cricket league in the world and in 2014 ranked\")\n",
    "# Close opend file\n",
    "fo.close()"
   ]
  },
  {
   "cell_type": "code",
   "execution_count": 249,
   "metadata": {},
   "outputs": [
    {
     "data": {
      "text/plain": [
       "'/home/pradip'"
      ]
     },
     "execution_count": 249,
     "metadata": {},
     "output_type": "execute_result"
    }
   ],
   "source": [
    "pwd"
   ]
  },
  {
   "cell_type": "code",
   "execution_count": 250,
   "metadata": {},
   "outputs": [
    {
     "name": "stdout",
     "output_type": "stream",
     "text": [
      "The Indian Premier League (IPL) is a professional Twenty20 cricket league in India contested during March or April and May of every year by eight teams representing eight different cities in India.[3] The league was founded by the Board of Control for Cricket in India (BCCI) in 2008. IPL has an exclusive window in ICC Future Tours Programme.[4] The IPL is the most-attended cricket league in the world and in 2014 ranked\n"
     ]
    }
   ],
   "source": [
    "fo = open(\"ipl_team.txt\", \"r\")\n",
    "st1=fo.readline()\n",
    "print( st1)\n"
   ]
  },
  {
   "cell_type": "code",
   "execution_count": null,
   "metadata": {},
   "outputs": [],
   "source": []
  },
  {
   "cell_type": "code",
   "execution_count": null,
   "metadata": {},
   "outputs": [],
   "source": []
  },
  {
   "cell_type": "code",
   "execution_count": 251,
   "metadata": {},
   "outputs": [],
   "source": [
    "sixes_data = pd.read_csv(\"Desktop/ipl_data/most_sixes_all_times.csv\")\n",
    "wickets_data = pd.read_csv(\"Desktop/ipl_data/most_wickets_all_times.csv\")\n"
   ]
  },
  {
   "cell_type": "code",
   "execution_count": 252,
   "metadata": {},
   "outputs": [
    {
     "name": "stdout",
     "output_type": "stream",
     "text": [
      "Sixes:\n"
     ]
    },
    {
     "data": {
      "text/html": [
       "<div>\n",
       "<style scoped>\n",
       "    .dataframe tbody tr th:only-of-type {\n",
       "        vertical-align: middle;\n",
       "    }\n",
       "\n",
       "    .dataframe tbody tr th {\n",
       "        vertical-align: top;\n",
       "    }\n",
       "\n",
       "    .dataframe thead th {\n",
       "        text-align: right;\n",
       "    }\n",
       "</style>\n",
       "<table border=\"1\" class=\"dataframe\">\n",
       "  <thead>\n",
       "    <tr style=\"text-align: right;\">\n",
       "      <th></th>\n",
       "      <th>id</th>\n",
       "      <th>Player</th>\n",
       "      <th>Sixes</th>\n",
       "      <th>Country</th>\n",
       "    </tr>\n",
       "  </thead>\n",
       "  <tbody>\n",
       "    <tr>\n",
       "      <th>0</th>\n",
       "      <td>1</td>\n",
       "      <td>ChrisGayle</td>\n",
       "      <td>326</td>\n",
       "      <td>WI</td>\n",
       "    </tr>\n",
       "    <tr>\n",
       "      <th>1</th>\n",
       "      <td>2</td>\n",
       "      <td>AB de Villiers</td>\n",
       "      <td>212</td>\n",
       "      <td>SA</td>\n",
       "    </tr>\n",
       "    <tr>\n",
       "      <th>2</th>\n",
       "      <td>3</td>\n",
       "      <td>MS Dhoni</td>\n",
       "      <td>209</td>\n",
       "      <td>Ind</td>\n",
       "    </tr>\n",
       "    <tr>\n",
       "      <th>3</th>\n",
       "      <td>4</td>\n",
       "      <td>Rohit Sharma</td>\n",
       "      <td>194</td>\n",
       "      <td>Ind</td>\n",
       "    </tr>\n",
       "    <tr>\n",
       "      <th>4</th>\n",
       "      <td>5</td>\n",
       "      <td>Suresh Raina</td>\n",
       "      <td>194</td>\n",
       "      <td>Ind</td>\n",
       "    </tr>\n",
       "  </tbody>\n",
       "</table>\n",
       "</div>"
      ],
      "text/plain": [
       "   id           Player  Sixes Country\n",
       "0   1       ChrisGayle    326      WI\n",
       "1   2   AB de Villiers    212      SA\n",
       "2   3         MS Dhoni    209     Ind\n",
       "3   4     Rohit Sharma    194     Ind\n",
       "4   5     Suresh Raina    194     Ind"
      ]
     },
     "metadata": {},
     "output_type": "display_data"
    },
    {
     "name": "stdout",
     "output_type": "stream",
     "text": [
      "\n",
      "\n"
     ]
    }
   ],
   "source": [
    "print(\"Sixes:\")\n",
    "display(sixes_data.head())\n",
    "print(\"\\n\")\n"
   ]
  },
  {
   "cell_type": "code",
   "execution_count": 253,
   "metadata": {},
   "outputs": [
    {
     "data": {
      "application/vnd.plotly.v1+json": {
       "config": {
        "linkText": "Export to plot.ly",
        "plotlyServerURL": "https://plot.ly",
        "showLink": false
       },
       "data": [
        {
         "alignmentgroup": "True",
         "hoverlabel": {
          "namelength": 0
         },
         "hovertemplate": "Player=%{x}<br>Sixes=%{y}",
         "legendgroup": "",
         "marker": {
          "color": "#636efa"
         },
         "name": "",
         "offsetgroup": "",
         "orientation": "v",
         "showlegend": false,
         "textposition": "auto",
         "type": "bar",
         "uid": "716929d5-2ec6-4153-9ca5-19d9e727af57",
         "x": [
          "ChrisGayle",
          " AB de Villiers",
          " MS Dhoni",
          " Rohit Sharma",
          " Suresh Raina",
          " Virat Kohli",
          " David Warner",
          " Shane Watson",
          " Kieron Pollard",
          " Yusuf Pathan",
          " Robin Uthappa",
          " Yuvraj Singh",
          " Brendon McCullum",
          " Andre Russell",
          " Ambati Rayudu",
          " Dwayne Smith",
          " Virender Sehwag",
          " Dinesh Karthik",
          " Shikhar Dhawan",
          " Rishabh Pant",
          " Adam Gilchrist",
          " Glenn Maxwell",
          " Murali Vijay",
          " Sanju Samson",
          " David Miller",
          " KL Rahul",
          " JP Duminy",
          " Naman Ojha",
          " Shaun Marsh",
          " Manish Pandey"
         ],
         "xaxis": "x",
         "y": [
          326,
          212,
          209,
          194,
          194,
          191,
          181,
          177,
          176,
          158,
          156,
          149,
          130,
          120,
          120,
          117,
          106,
          101,
          96,
          94,
          92,
          91,
          91,
          89,
          87,
          81,
          79,
          79,
          78,
          75
         ],
         "yaxis": "y"
        }
       ],
       "layout": {
        "barmode": "relative",
        "grid": {
         "xaxes": [
          "x"
         ],
         "xgap": 0.1,
         "xside": "bottom",
         "yaxes": [
          "y"
         ],
         "ygap": 0.1,
         "yside": "left"
        },
        "height": 600,
        "legend": {
         "tracegroupgap": 0
        },
        "template": {
         "data": {
          "bar": [
           {
            "marker": {
             "line": {
              "color": "#E5ECF6",
              "width": 0.5
             }
            },
            "type": "bar"
           }
          ],
          "barpolar": [
           {
            "marker": {
             "line": {
              "color": "#E5ECF6",
              "width": 0.5
             }
            },
            "type": "barpolar"
           }
          ],
          "carpet": [
           {
            "aaxis": {
             "endlinecolor": "#2a3f5f",
             "gridcolor": "white",
             "linecolor": "white",
             "minorgridcolor": "white",
             "startlinecolor": "#2a3f5f"
            },
            "baxis": {
             "endlinecolor": "#2a3f5f",
             "gridcolor": "white",
             "linecolor": "white",
             "minorgridcolor": "white",
             "startlinecolor": "#2a3f5f"
            },
            "type": "carpet"
           }
          ],
          "choropleth": [
           {
            "colorbar": {
             "outlinewidth": 0,
             "ticks": ""
            },
            "type": "choropleth"
           }
          ],
          "contour": [
           {
            "colorbar": {
             "outlinewidth": 0,
             "ticks": ""
            },
            "colorscale": [
             [
              0,
              "#0508b8"
             ],
             [
              0.0893854748603352,
              "#1910d8"
             ],
             [
              0.1787709497206704,
              "#3c19f0"
             ],
             [
              0.2681564245810056,
              "#6b1cfb"
             ],
             [
              0.3575418994413408,
              "#981cfd"
             ],
             [
              0.44692737430167595,
              "#bf1cfd"
             ],
             [
              0.5363128491620112,
              "#dd2bfd"
             ],
             [
              0.6256983240223464,
              "#f246fe"
             ],
             [
              0.7150837988826816,
              "#fc67fd"
             ],
             [
              0.8044692737430168,
              "#fe88fc"
             ],
             [
              0.8938547486033519,
              "#fea5fd"
             ],
             [
              0.9832402234636871,
              "#febefe"
             ],
             [
              1,
              "#fec3fe"
             ]
            ],
            "type": "contour"
           }
          ],
          "contourcarpet": [
           {
            "colorbar": {
             "outlinewidth": 0,
             "ticks": ""
            },
            "type": "contourcarpet"
           }
          ],
          "heatmap": [
           {
            "colorbar": {
             "outlinewidth": 0,
             "ticks": ""
            },
            "colorscale": [
             [
              0,
              "#0508b8"
             ],
             [
              0.0893854748603352,
              "#1910d8"
             ],
             [
              0.1787709497206704,
              "#3c19f0"
             ],
             [
              0.2681564245810056,
              "#6b1cfb"
             ],
             [
              0.3575418994413408,
              "#981cfd"
             ],
             [
              0.44692737430167595,
              "#bf1cfd"
             ],
             [
              0.5363128491620112,
              "#dd2bfd"
             ],
             [
              0.6256983240223464,
              "#f246fe"
             ],
             [
              0.7150837988826816,
              "#fc67fd"
             ],
             [
              0.8044692737430168,
              "#fe88fc"
             ],
             [
              0.8938547486033519,
              "#fea5fd"
             ],
             [
              0.9832402234636871,
              "#febefe"
             ],
             [
              1,
              "#fec3fe"
             ]
            ],
            "type": "heatmap"
           }
          ],
          "heatmapgl": [
           {
            "colorbar": {
             "outlinewidth": 0,
             "ticks": ""
            },
            "type": "heatmapgl"
           }
          ],
          "histogram": [
           {
            "marker": {
             "colorbar": {
              "outlinewidth": 0,
              "ticks": ""
             }
            },
            "type": "histogram"
           }
          ],
          "histogram2d": [
           {
            "colorbar": {
             "outlinewidth": 0,
             "ticks": ""
            },
            "colorscale": [
             [
              0,
              "#0508b8"
             ],
             [
              0.0893854748603352,
              "#1910d8"
             ],
             [
              0.1787709497206704,
              "#3c19f0"
             ],
             [
              0.2681564245810056,
              "#6b1cfb"
             ],
             [
              0.3575418994413408,
              "#981cfd"
             ],
             [
              0.44692737430167595,
              "#bf1cfd"
             ],
             [
              0.5363128491620112,
              "#dd2bfd"
             ],
             [
              0.6256983240223464,
              "#f246fe"
             ],
             [
              0.7150837988826816,
              "#fc67fd"
             ],
             [
              0.8044692737430168,
              "#fe88fc"
             ],
             [
              0.8938547486033519,
              "#fea5fd"
             ],
             [
              0.9832402234636871,
              "#febefe"
             ],
             [
              1,
              "#fec3fe"
             ]
            ],
            "type": "histogram2d"
           }
          ],
          "histogram2dcontour": [
           {
            "colorbar": {
             "outlinewidth": 0,
             "ticks": ""
            },
            "colorscale": [
             [
              0,
              "#0508b8"
             ],
             [
              0.0893854748603352,
              "#1910d8"
             ],
             [
              0.1787709497206704,
              "#3c19f0"
             ],
             [
              0.2681564245810056,
              "#6b1cfb"
             ],
             [
              0.3575418994413408,
              "#981cfd"
             ],
             [
              0.44692737430167595,
              "#bf1cfd"
             ],
             [
              0.5363128491620112,
              "#dd2bfd"
             ],
             [
              0.6256983240223464,
              "#f246fe"
             ],
             [
              0.7150837988826816,
              "#fc67fd"
             ],
             [
              0.8044692737430168,
              "#fe88fc"
             ],
             [
              0.8938547486033519,
              "#fea5fd"
             ],
             [
              0.9832402234636871,
              "#febefe"
             ],
             [
              1,
              "#fec3fe"
             ]
            ],
            "type": "histogram2dcontour"
           }
          ],
          "mesh3d": [
           {
            "colorbar": {
             "outlinewidth": 0,
             "ticks": ""
            },
            "type": "mesh3d"
           }
          ],
          "parcoords": [
           {
            "line": {
             "colorbar": {
              "outlinewidth": 0,
              "ticks": ""
             }
            },
            "type": "parcoords"
           }
          ],
          "scatter": [
           {
            "marker": {
             "colorbar": {
              "outlinewidth": 0,
              "ticks": ""
             }
            },
            "type": "scatter"
           }
          ],
          "scatter3d": [
           {
            "marker": {
             "colorbar": {
              "outlinewidth": 0,
              "ticks": ""
             }
            },
            "type": "scatter3d"
           }
          ],
          "scattercarpet": [
           {
            "marker": {
             "colorbar": {
              "outlinewidth": 0,
              "ticks": ""
             }
            },
            "type": "scattercarpet"
           }
          ],
          "scattergeo": [
           {
            "marker": {
             "colorbar": {
              "outlinewidth": 0,
              "ticks": ""
             }
            },
            "type": "scattergeo"
           }
          ],
          "scattergl": [
           {
            "marker": {
             "colorbar": {
              "outlinewidth": 0,
              "ticks": ""
             }
            },
            "type": "scattergl"
           }
          ],
          "scattermapbox": [
           {
            "marker": {
             "colorbar": {
              "outlinewidth": 0,
              "ticks": ""
             }
            },
            "type": "scattermapbox"
           }
          ],
          "scatterpolar": [
           {
            "marker": {
             "colorbar": {
              "outlinewidth": 0,
              "ticks": ""
             }
            },
            "type": "scatterpolar"
           }
          ],
          "scatterpolargl": [
           {
            "marker": {
             "colorbar": {
              "outlinewidth": 0,
              "ticks": ""
             }
            },
            "type": "scatterpolargl"
           }
          ],
          "scatterternary": [
           {
            "marker": {
             "colorbar": {
              "outlinewidth": 0,
              "ticks": ""
             }
            },
            "type": "scatterternary"
           }
          ],
          "surface": [
           {
            "colorbar": {
             "outlinewidth": 0,
             "ticks": ""
            },
            "type": "surface"
           }
          ],
          "table": [
           {
            "cells": {
             "fill": {
              "color": "#EBF0F8"
             },
             "line": {
              "color": "white"
             }
            },
            "header": {
             "fill": {
              "color": "#C8D4E3"
             },
             "line": {
              "color": "white"
             }
            },
            "type": "table"
           }
          ]
         },
         "layout": {
          "annotationdefaults": {
           "arrowcolor": "#506784",
           "arrowhead": 0,
           "arrowwidth": 1
          },
          "colorscale": {
           "diverging": [
            [
             0,
             "#8e0152"
            ],
            [
             0.1,
             "#c51b7d"
            ],
            [
             0.2,
             "#de77ae"
            ],
            [
             0.3,
             "#f1b6da"
            ],
            [
             0.4,
             "#fde0ef"
            ],
            [
             0.5,
             "#f7f7f7"
            ],
            [
             0.6,
             "#e6f5d0"
            ],
            [
             0.7,
             "#b8e186"
            ],
            [
             0.8,
             "#7fbc41"
            ],
            [
             0.9,
             "#4d9221"
            ],
            [
             1,
             "#276419"
            ]
           ],
           "sequential": [
            [
             0,
             "#0508b8"
            ],
            [
             0.0893854748603352,
             "#1910d8"
            ],
            [
             0.1787709497206704,
             "#3c19f0"
            ],
            [
             0.2681564245810056,
             "#6b1cfb"
            ],
            [
             0.3575418994413408,
             "#981cfd"
            ],
            [
             0.44692737430167595,
             "#bf1cfd"
            ],
            [
             0.5363128491620112,
             "#dd2bfd"
            ],
            [
             0.6256983240223464,
             "#f246fe"
            ],
            [
             0.7150837988826816,
             "#fc67fd"
            ],
            [
             0.8044692737430168,
             "#fe88fc"
            ],
            [
             0.8938547486033519,
             "#fea5fd"
            ],
            [
             0.9832402234636871,
             "#febefe"
            ],
            [
             1,
             "#fec3fe"
            ]
           ],
           "sequentialminus": [
            [
             0,
             "#0508b8"
            ],
            [
             0.0893854748603352,
             "#1910d8"
            ],
            [
             0.1787709497206704,
             "#3c19f0"
            ],
            [
             0.2681564245810056,
             "#6b1cfb"
            ],
            [
             0.3575418994413408,
             "#981cfd"
            ],
            [
             0.44692737430167595,
             "#bf1cfd"
            ],
            [
             0.5363128491620112,
             "#dd2bfd"
            ],
            [
             0.6256983240223464,
             "#f246fe"
            ],
            [
             0.7150837988826816,
             "#fc67fd"
            ],
            [
             0.8044692737430168,
             "#fe88fc"
            ],
            [
             0.8938547486033519,
             "#fea5fd"
            ],
            [
             0.9832402234636871,
             "#febefe"
            ],
            [
             1,
             "#fec3fe"
            ]
           ]
          },
          "colorway": [
           "#636efa",
           "#EF553B",
           "#00cc96",
           "#ab63fa",
           "#19d3f3",
           "#e763fa",
           "#FECB52",
           "#FFA15A",
           "#FF6692",
           "#B6E880"
          ],
          "font": {
           "color": "#2a3f5f"
          },
          "geo": {
           "bgcolor": "white",
           "lakecolor": "white",
           "landcolor": "#E5ECF6",
           "showlakes": true,
           "showland": true,
           "subunitcolor": "white"
          },
          "hoverlabel": {
           "align": "left"
          },
          "hovermode": "closest",
          "mapbox": {
           "style": "light"
          },
          "paper_bgcolor": "white",
          "plot_bgcolor": "#E5ECF6",
          "polar": {
           "angularaxis": {
            "gridcolor": "white",
            "linecolor": "white",
            "ticks": ""
           },
           "bgcolor": "#E5ECF6",
           "radialaxis": {
            "gridcolor": "white",
            "linecolor": "white",
            "ticks": ""
           }
          },
          "scene": {
           "xaxis": {
            "backgroundcolor": "#E5ECF6",
            "gridcolor": "white",
            "gridwidth": 2,
            "linecolor": "white",
            "showbackground": true,
            "ticks": "",
            "zerolinecolor": "white"
           },
           "yaxis": {
            "backgroundcolor": "#E5ECF6",
            "gridcolor": "white",
            "gridwidth": 2,
            "linecolor": "white",
            "showbackground": true,
            "ticks": "",
            "zerolinecolor": "white"
           },
           "zaxis": {
            "backgroundcolor": "#E5ECF6",
            "gridcolor": "white",
            "gridwidth": 2,
            "linecolor": "white",
            "showbackground": true,
            "ticks": "",
            "zerolinecolor": "white"
           }
          },
          "shapedefaults": {
           "fillcolor": "#506784",
           "line": {
            "width": 0
           },
           "opacity": 0.4
          },
          "ternary": {
           "aaxis": {
            "gridcolor": "white",
            "linecolor": "white",
            "ticks": ""
           },
           "baxis": {
            "gridcolor": "white",
            "linecolor": "white",
            "ticks": ""
           },
           "bgcolor": "#E5ECF6",
           "caxis": {
            "gridcolor": "white",
            "linecolor": "white",
            "ticks": ""
           }
          },
          "title": {
           "x": 0.05
          },
          "xaxis": {
           "automargin": true,
           "gridcolor": "white",
           "linecolor": "white",
           "ticks": "",
           "zerolinecolor": "white",
           "zerolinewidth": 2
          },
          "yaxis": {
           "automargin": true,
           "gridcolor": "white",
           "linecolor": "white",
           "ticks": "",
           "zerolinecolor": "white",
           "zerolinewidth": 2
          }
         }
        },
        "title": {
         "text": "Sixes by IPL Batsmen"
        },
        "xaxis": {
         "title": {
          "text": "Player"
         }
        },
        "yaxis": {
         "title": {
          "text": "Sixes"
         }
        }
       }
      },
      "text/html": [
       "<div>\n",
       "        \n",
       "        \n",
       "            <div id=\"a2bafb9a-5ce7-49e5-9ac5-b939a6462fd0\" class=\"plotly-graph-div\" style=\"height:600px; width:100%;\"></div>\n",
       "            <script type=\"text/javascript\">\n",
       "                require([\"plotly\"], function(Plotly) {\n",
       "                    window.PLOTLYENV=window.PLOTLYENV || {};\n",
       "                    window.PLOTLYENV.BASE_URL='https://plot.ly';\n",
       "                    \n",
       "                if (document.getElementById(\"a2bafb9a-5ce7-49e5-9ac5-b939a6462fd0\")) {\n",
       "                    Plotly.newPlot(\n",
       "                        'a2bafb9a-5ce7-49e5-9ac5-b939a6462fd0',\n",
       "                        [{\"alignmentgroup\": \"True\", \"hoverlabel\": {\"namelength\": 0}, \"hovertemplate\": \"Player=%{x}<br>Sixes=%{y}\", \"legendgroup\": \"\", \"marker\": {\"color\": \"#636efa\"}, \"name\": \"\", \"offsetgroup\": \"\", \"orientation\": \"v\", \"showlegend\": false, \"textposition\": \"auto\", \"type\": \"bar\", \"uid\": \"716929d5-2ec6-4153-9ca5-19d9e727af57\", \"x\": [\"ChrisGayle\", \"\\u00a0AB\\u00a0de Villiers\", \"\\u00a0MS\\u00a0Dhoni\", \"\\u00a0Rohit\\u00a0Sharma\", \"\\u00a0Suresh\\u00a0Raina\", \"\\u00a0Virat\\u00a0Kohli\", \"\\u00a0David\\u00a0Warner\", \"\\u00a0Shane\\u00a0Watson\", \"\\u00a0Kieron\\u00a0Pollard\", \"\\u00a0Yusuf\\u00a0Pathan\", \"\\u00a0Robin\\u00a0Uthappa\", \"\\u00a0Yuvraj\\u00a0Singh\", \"\\u00a0Brendon\\u00a0McCullum\", \"\\u00a0Andre\\u00a0Russell\", \"\\u00a0Ambati\\u00a0Rayudu\", \"\\u00a0Dwayne\\u00a0Smith\", \"\\u00a0Virender\\u00a0Sehwag\", \"\\u00a0Dinesh\\u00a0Karthik\", \"\\u00a0Shikhar\\u00a0Dhawan\", \"\\u00a0Rishabh\\u00a0Pant\", \"\\u00a0Adam\\u00a0Gilchrist\", \"\\u00a0Glenn\\u00a0Maxwell\", \"\\u00a0Murali\\u00a0Vijay\", \"\\u00a0Sanju\\u00a0Samson\", \"\\u00a0David\\u00a0Miller\", \"\\u00a0KL\\u00a0Rahul\", \"\\u00a0JP\\u00a0Duminy\", \"\\u00a0Naman\\u00a0Ojha\", \"\\u00a0Shaun\\u00a0Marsh\", \"\\u00a0Manish\\u00a0Pandey\"], \"xaxis\": \"x\", \"y\": [326, 212, 209, 194, 194, 191, 181, 177, 176, 158, 156, 149, 130, 120, 120, 117, 106, 101, 96, 94, 92, 91, 91, 89, 87, 81, 79, 79, 78, 75], \"yaxis\": \"y\"}],\n",
       "                        {\"barmode\": \"relative\", \"grid\": {\"xaxes\": [\"x\"], \"xgap\": 0.1, \"xside\": \"bottom\", \"yaxes\": [\"y\"], \"ygap\": 0.1, \"yside\": \"left\"}, \"height\": 600, \"legend\": {\"tracegroupgap\": 0}, \"template\": {\"data\": {\"bar\": [{\"marker\": {\"line\": {\"color\": \"#E5ECF6\", \"width\": 0.5}}, \"type\": \"bar\"}], \"barpolar\": [{\"marker\": {\"line\": {\"color\": \"#E5ECF6\", \"width\": 0.5}}, \"type\": \"barpolar\"}], \"carpet\": [{\"aaxis\": {\"endlinecolor\": \"#2a3f5f\", \"gridcolor\": \"white\", \"linecolor\": \"white\", \"minorgridcolor\": \"white\", \"startlinecolor\": \"#2a3f5f\"}, \"baxis\": {\"endlinecolor\": \"#2a3f5f\", \"gridcolor\": \"white\", \"linecolor\": \"white\", \"minorgridcolor\": \"white\", \"startlinecolor\": \"#2a3f5f\"}, \"type\": \"carpet\"}], \"choropleth\": [{\"colorbar\": {\"outlinewidth\": 0, \"ticks\": \"\"}, \"type\": \"choropleth\"}], \"contour\": [{\"colorbar\": {\"outlinewidth\": 0, \"ticks\": \"\"}, \"colorscale\": [[0.0, \"#0508b8\"], [0.0893854748603352, \"#1910d8\"], [0.1787709497206704, \"#3c19f0\"], [0.2681564245810056, \"#6b1cfb\"], [0.3575418994413408, \"#981cfd\"], [0.44692737430167595, \"#bf1cfd\"], [0.5363128491620112, \"#dd2bfd\"], [0.6256983240223464, \"#f246fe\"], [0.7150837988826816, \"#fc67fd\"], [0.8044692737430168, \"#fe88fc\"], [0.8938547486033519, \"#fea5fd\"], [0.9832402234636871, \"#febefe\"], [1.0, \"#fec3fe\"]], \"type\": \"contour\"}], \"contourcarpet\": [{\"colorbar\": {\"outlinewidth\": 0, \"ticks\": \"\"}, \"type\": \"contourcarpet\"}], \"heatmap\": [{\"colorbar\": {\"outlinewidth\": 0, \"ticks\": \"\"}, \"colorscale\": [[0.0, \"#0508b8\"], [0.0893854748603352, \"#1910d8\"], [0.1787709497206704, \"#3c19f0\"], [0.2681564245810056, \"#6b1cfb\"], [0.3575418994413408, \"#981cfd\"], [0.44692737430167595, \"#bf1cfd\"], [0.5363128491620112, \"#dd2bfd\"], [0.6256983240223464, \"#f246fe\"], [0.7150837988826816, \"#fc67fd\"], [0.8044692737430168, \"#fe88fc\"], [0.8938547486033519, \"#fea5fd\"], [0.9832402234636871, \"#febefe\"], [1.0, \"#fec3fe\"]], \"type\": \"heatmap\"}], \"heatmapgl\": [{\"colorbar\": {\"outlinewidth\": 0, \"ticks\": \"\"}, \"type\": \"heatmapgl\"}], \"histogram\": [{\"marker\": {\"colorbar\": {\"outlinewidth\": 0, \"ticks\": \"\"}}, \"type\": \"histogram\"}], \"histogram2d\": [{\"colorbar\": {\"outlinewidth\": 0, \"ticks\": \"\"}, \"colorscale\": [[0.0, \"#0508b8\"], [0.0893854748603352, \"#1910d8\"], [0.1787709497206704, \"#3c19f0\"], [0.2681564245810056, \"#6b1cfb\"], [0.3575418994413408, \"#981cfd\"], [0.44692737430167595, \"#bf1cfd\"], [0.5363128491620112, \"#dd2bfd\"], [0.6256983240223464, \"#f246fe\"], [0.7150837988826816, \"#fc67fd\"], [0.8044692737430168, \"#fe88fc\"], [0.8938547486033519, \"#fea5fd\"], [0.9832402234636871, \"#febefe\"], [1.0, \"#fec3fe\"]], \"type\": \"histogram2d\"}], \"histogram2dcontour\": [{\"colorbar\": {\"outlinewidth\": 0, \"ticks\": \"\"}, \"colorscale\": [[0.0, \"#0508b8\"], [0.0893854748603352, \"#1910d8\"], [0.1787709497206704, \"#3c19f0\"], [0.2681564245810056, \"#6b1cfb\"], [0.3575418994413408, \"#981cfd\"], [0.44692737430167595, \"#bf1cfd\"], [0.5363128491620112, \"#dd2bfd\"], [0.6256983240223464, \"#f246fe\"], [0.7150837988826816, \"#fc67fd\"], [0.8044692737430168, \"#fe88fc\"], [0.8938547486033519, \"#fea5fd\"], [0.9832402234636871, \"#febefe\"], [1.0, \"#fec3fe\"]], \"type\": \"histogram2dcontour\"}], \"mesh3d\": [{\"colorbar\": {\"outlinewidth\": 0, \"ticks\": \"\"}, \"type\": \"mesh3d\"}], \"parcoords\": [{\"line\": {\"colorbar\": {\"outlinewidth\": 0, \"ticks\": \"\"}}, \"type\": \"parcoords\"}], \"scatter\": [{\"marker\": {\"colorbar\": {\"outlinewidth\": 0, \"ticks\": \"\"}}, \"type\": \"scatter\"}], \"scatter3d\": [{\"marker\": {\"colorbar\": {\"outlinewidth\": 0, \"ticks\": \"\"}}, \"type\": \"scatter3d\"}], \"scattercarpet\": [{\"marker\": {\"colorbar\": {\"outlinewidth\": 0, \"ticks\": \"\"}}, \"type\": \"scattercarpet\"}], \"scattergeo\": [{\"marker\": {\"colorbar\": {\"outlinewidth\": 0, \"ticks\": \"\"}}, \"type\": \"scattergeo\"}], \"scattergl\": [{\"marker\": {\"colorbar\": {\"outlinewidth\": 0, \"ticks\": \"\"}}, \"type\": \"scattergl\"}], \"scattermapbox\": [{\"marker\": {\"colorbar\": {\"outlinewidth\": 0, \"ticks\": \"\"}}, \"type\": \"scattermapbox\"}], \"scatterpolar\": [{\"marker\": {\"colorbar\": {\"outlinewidth\": 0, \"ticks\": \"\"}}, \"type\": \"scatterpolar\"}], \"scatterpolargl\": [{\"marker\": {\"colorbar\": {\"outlinewidth\": 0, \"ticks\": \"\"}}, \"type\": \"scatterpolargl\"}], \"scatterternary\": [{\"marker\": {\"colorbar\": {\"outlinewidth\": 0, \"ticks\": \"\"}}, \"type\": \"scatterternary\"}], \"surface\": [{\"colorbar\": {\"outlinewidth\": 0, \"ticks\": \"\"}, \"type\": \"surface\"}], \"table\": [{\"cells\": {\"fill\": {\"color\": \"#EBF0F8\"}, \"line\": {\"color\": \"white\"}}, \"header\": {\"fill\": {\"color\": \"#C8D4E3\"}, \"line\": {\"color\": \"white\"}}, \"type\": \"table\"}]}, \"layout\": {\"annotationdefaults\": {\"arrowcolor\": \"#506784\", \"arrowhead\": 0, \"arrowwidth\": 1}, \"colorscale\": {\"diverging\": [[0, \"#8e0152\"], [0.1, \"#c51b7d\"], [0.2, \"#de77ae\"], [0.3, \"#f1b6da\"], [0.4, \"#fde0ef\"], [0.5, \"#f7f7f7\"], [0.6, \"#e6f5d0\"], [0.7, \"#b8e186\"], [0.8, \"#7fbc41\"], [0.9, \"#4d9221\"], [1, \"#276419\"]], \"sequential\": [[0.0, \"#0508b8\"], [0.0893854748603352, \"#1910d8\"], [0.1787709497206704, \"#3c19f0\"], [0.2681564245810056, \"#6b1cfb\"], [0.3575418994413408, \"#981cfd\"], [0.44692737430167595, \"#bf1cfd\"], [0.5363128491620112, \"#dd2bfd\"], [0.6256983240223464, \"#f246fe\"], [0.7150837988826816, \"#fc67fd\"], [0.8044692737430168, \"#fe88fc\"], [0.8938547486033519, \"#fea5fd\"], [0.9832402234636871, \"#febefe\"], [1.0, \"#fec3fe\"]], \"sequentialminus\": [[0.0, \"#0508b8\"], [0.0893854748603352, \"#1910d8\"], [0.1787709497206704, \"#3c19f0\"], [0.2681564245810056, \"#6b1cfb\"], [0.3575418994413408, \"#981cfd\"], [0.44692737430167595, \"#bf1cfd\"], [0.5363128491620112, \"#dd2bfd\"], [0.6256983240223464, \"#f246fe\"], [0.7150837988826816, \"#fc67fd\"], [0.8044692737430168, \"#fe88fc\"], [0.8938547486033519, \"#fea5fd\"], [0.9832402234636871, \"#febefe\"], [1.0, \"#fec3fe\"]]}, \"colorway\": [\"#636efa\", \"#EF553B\", \"#00cc96\", \"#ab63fa\", \"#19d3f3\", \"#e763fa\", \"#FECB52\", \"#FFA15A\", \"#FF6692\", \"#B6E880\"], \"font\": {\"color\": \"#2a3f5f\"}, \"geo\": {\"bgcolor\": \"white\", \"lakecolor\": \"white\", \"landcolor\": \"#E5ECF6\", \"showlakes\": true, \"showland\": true, \"subunitcolor\": \"white\"}, \"hoverlabel\": {\"align\": \"left\"}, \"hovermode\": \"closest\", \"mapbox\": {\"style\": \"light\"}, \"paper_bgcolor\": \"white\", \"plot_bgcolor\": \"#E5ECF6\", \"polar\": {\"angularaxis\": {\"gridcolor\": \"white\", \"linecolor\": \"white\", \"ticks\": \"\"}, \"bgcolor\": \"#E5ECF6\", \"radialaxis\": {\"gridcolor\": \"white\", \"linecolor\": \"white\", \"ticks\": \"\"}}, \"scene\": {\"xaxis\": {\"backgroundcolor\": \"#E5ECF6\", \"gridcolor\": \"white\", \"gridwidth\": 2, \"linecolor\": \"white\", \"showbackground\": true, \"ticks\": \"\", \"zerolinecolor\": \"white\"}, \"yaxis\": {\"backgroundcolor\": \"#E5ECF6\", \"gridcolor\": \"white\", \"gridwidth\": 2, \"linecolor\": \"white\", \"showbackground\": true, \"ticks\": \"\", \"zerolinecolor\": \"white\"}, \"zaxis\": {\"backgroundcolor\": \"#E5ECF6\", \"gridcolor\": \"white\", \"gridwidth\": 2, \"linecolor\": \"white\", \"showbackground\": true, \"ticks\": \"\", \"zerolinecolor\": \"white\"}}, \"shapedefaults\": {\"fillcolor\": \"#506784\", \"line\": {\"width\": 0}, \"opacity\": 0.4}, \"ternary\": {\"aaxis\": {\"gridcolor\": \"white\", \"linecolor\": \"white\", \"ticks\": \"\"}, \"baxis\": {\"gridcolor\": \"white\", \"linecolor\": \"white\", \"ticks\": \"\"}, \"bgcolor\": \"#E5ECF6\", \"caxis\": {\"gridcolor\": \"white\", \"linecolor\": \"white\", \"ticks\": \"\"}}, \"title\": {\"x\": 0.05}, \"xaxis\": {\"automargin\": true, \"gridcolor\": \"white\", \"linecolor\": \"white\", \"ticks\": \"\", \"zerolinecolor\": \"white\", \"zerolinewidth\": 2}, \"yaxis\": {\"automargin\": true, \"gridcolor\": \"white\", \"linecolor\": \"white\", \"ticks\": \"\", \"zerolinecolor\": \"white\", \"zerolinewidth\": 2}}}, \"title\": {\"text\": \"Sixes by IPL Batsmen\"}, \"xaxis\": {\"title\": {\"text\": \"Player\"}}, \"yaxis\": {\"title\": {\"text\": \"Sixes\"}}},\n",
       "                        {\"showLink\": false, \"linkText\": \"Export to plot.ly\", \"plotlyServerURL\": \"https://plot.ly\", \"responsive\": true}\n",
       "                    ).then(function(){\n",
       "                            \n",
       "var gd = document.getElementById('a2bafb9a-5ce7-49e5-9ac5-b939a6462fd0');\n",
       "var x = new MutationObserver(function (mutations, observer) {{\n",
       "        var display = window.getComputedStyle(gd).display;\n",
       "        if (!display || display === 'none') {{\n",
       "            console.log([gd, 'removed!']);\n",
       "            Plotly.purge(gd);\n",
       "            observer.disconnect();\n",
       "        }}\n",
       "}});\n",
       "\n",
       "// Listen for the removal of the full notebook cells\n",
       "var notebookContainer = gd.closest('#notebook-container');\n",
       "if (notebookContainer) {{\n",
       "    x.observe(notebookContainer, {childList: true});\n",
       "}}\n",
       "\n",
       "// Listen for the clearing of the current output cell\n",
       "var outputEl = gd.closest('.output');\n",
       "if (outputEl) {{\n",
       "    x.observe(outputEl, {childList: true});\n",
       "}}\n",
       "\n",
       "                        })\n",
       "                };\n",
       "                });\n",
       "            </script>\n",
       "        </div>"
      ]
     },
     "metadata": {},
     "output_type": "display_data"
    }
   ],
   "source": [
    "px.bar(sixes_data, y = \"Sixes\",x = \"Player\", title = \"Sixes by IPL Batsmen\")"
   ]
  },
  {
   "cell_type": "code",
   "execution_count": 254,
   "metadata": {},
   "outputs": [
    {
     "name": "stdout",
     "output_type": "stream",
     "text": [
      "Wickets:\n"
     ]
    },
    {
     "data": {
      "text/html": [
       "<div>\n",
       "<style scoped>\n",
       "    .dataframe tbody tr th:only-of-type {\n",
       "        vertical-align: middle;\n",
       "    }\n",
       "\n",
       "    .dataframe tbody tr th {\n",
       "        vertical-align: top;\n",
       "    }\n",
       "\n",
       "    .dataframe thead th {\n",
       "        text-align: right;\n",
       "    }\n",
       "</style>\n",
       "<table border=\"1\" class=\"dataframe\">\n",
       "  <thead>\n",
       "    <tr style=\"text-align: right;\">\n",
       "      <th></th>\n",
       "      <th>id</th>\n",
       "      <th>Player</th>\n",
       "      <th>Mat</th>\n",
       "      <th>Wkts</th>\n",
       "      <th>Country</th>\n",
       "    </tr>\n",
       "  </thead>\n",
       "  <tbody>\n",
       "    <tr>\n",
       "      <th>0</th>\n",
       "      <td>1</td>\n",
       "      <td>LasithMalinga</td>\n",
       "      <td>122</td>\n",
       "      <td>170</td>\n",
       "      <td>SL</td>\n",
       "    </tr>\n",
       "    <tr>\n",
       "      <th>1</th>\n",
       "      <td>2</td>\n",
       "      <td>Amit Mishra</td>\n",
       "      <td>147</td>\n",
       "      <td>157</td>\n",
       "      <td>Ind</td>\n",
       "    </tr>\n",
       "    <tr>\n",
       "      <th>2</th>\n",
       "      <td>3</td>\n",
       "      <td>Harbhajan Singh</td>\n",
       "      <td>160</td>\n",
       "      <td>150</td>\n",
       "      <td>Ind</td>\n",
       "    </tr>\n",
       "    <tr>\n",
       "      <th>3</th>\n",
       "      <td>4</td>\n",
       "      <td>Piyush Chawla</td>\n",
       "      <td>157</td>\n",
       "      <td>150</td>\n",
       "      <td>Ind</td>\n",
       "    </tr>\n",
       "    <tr>\n",
       "      <th>4</th>\n",
       "      <td>5</td>\n",
       "      <td>Dwayne Bravo</td>\n",
       "      <td>134</td>\n",
       "      <td>147</td>\n",
       "      <td>WI</td>\n",
       "    </tr>\n",
       "  </tbody>\n",
       "</table>\n",
       "</div>"
      ],
      "text/plain": [
       "   id            Player  Mat  Wkts Country\n",
       "0   1     LasithMalinga  122   170      SL\n",
       "1   2       Amit Mishra  147   157     Ind\n",
       "2   3   Harbhajan Singh  160   150     Ind\n",
       "3   4     Piyush Chawla  157   150     Ind\n",
       "4   5      Dwayne Bravo  134   147      WI"
      ]
     },
     "metadata": {},
     "output_type": "display_data"
    }
   ],
   "source": [
    "print(\"Wickets:\")\n",
    "display(wickets_data.head())"
   ]
  },
  {
   "cell_type": "code",
   "execution_count": 255,
   "metadata": {},
   "outputs": [
    {
     "data": {
      "application/vnd.plotly.v1+json": {
       "config": {
        "linkText": "Export to plot.ly",
        "plotlyServerURL": "https://plot.ly",
        "showLink": false
       },
       "data": [
        {
         "alignmentgroup": "True",
         "hoverlabel": {
          "namelength": 0
         },
         "hovertemplate": "Country=SL<br>Wkts=%{x}<br>Player=%{y}",
         "legendgroup": "Country=SL",
         "marker": {
          "color": "#636efa"
         },
         "name": "Country=SL",
         "offsetgroup": "Country=SL",
         "orientation": "h",
         "showlegend": true,
         "textposition": "auto",
         "type": "bar",
         "uid": "564eeeb3-5d89-494f-a772-28d4c9300cd3",
         "x": [
          170
         ],
         "xaxis": "x",
         "y": [
          "LasithMalinga"
         ],
         "yaxis": "y"
        },
        {
         "alignmentgroup": "True",
         "hoverlabel": {
          "namelength": 0
         },
         "hovertemplate": "Country=Ind<br>Wkts=%{x}<br>Player=%{y}",
         "legendgroup": "Country=Ind",
         "marker": {
          "color": "#EF553B"
         },
         "name": "Country=Ind",
         "offsetgroup": "Country=Ind",
         "orientation": "h",
         "showlegend": true,
         "textposition": "auto",
         "type": "bar",
         "uid": "c81b81f9-a6ff-4a74-8b55-3e93c132b053",
         "x": [
          157,
          150,
          150,
          133,
          125,
          119,
          108,
          106,
          105,
          102,
          100,
          95,
          91,
          90,
          90,
          89,
          86,
          82,
          80,
          77,
          76,
          74
         ],
         "xaxis": "x",
         "y": [
          " Amit Mishra",
          " Harbhajan Singh",
          " Piyush Chawla",
          " Bhuvneshwar Kumar",
          " Ravichandran Ashwin",
          " Umesh Yadav",
          " Ravindra Jadeja",
          " Ashish Nehra",
          " Vinay Kumar",
          " Zaheer Khan",
          " Yuzvendra Chahal",
          " Sandeep Sharma",
          " Mohit Sharma",
          " Praveen Kumar",
          " RP Singh",
          " Pragyan Ojha",
          " Dhawal Kulkarni",
          " Jasprit Bumrah",
          " Irfan Pathan",
          " Jaydev Unadkat",
          " Lakshmipathy Balaji",
          " Munaf Patel"
         ],
         "yaxis": "y"
        },
        {
         "alignmentgroup": "True",
         "hoverlabel": {
          "namelength": 0
         },
         "hovertemplate": "Country=WI<br>Wkts=%{x}<br>Player=%{y}",
         "legendgroup": "Country=WI",
         "marker": {
          "color": "#00cc96"
         },
         "name": "Country=WI",
         "offsetgroup": "Country=WI",
         "orientation": "h",
         "showlegend": true,
         "textposition": "auto",
         "type": "bar",
         "uid": "befa7a6f-79d3-4b24-8b36-df7b462dd952",
         "x": [
          147,
          122
         ],
         "xaxis": "x",
         "y": [
          " Dwayne Bravo",
          " Sunil Narine"
         ],
         "yaxis": "y"
        },
        {
         "alignmentgroup": "True",
         "hoverlabel": {
          "namelength": 0
         },
         "hovertemplate": "Country=SA<br>Wkts=%{x}<br>Player=%{y}",
         "legendgroup": "Country=SA",
         "marker": {
          "color": "#ab63fa"
         },
         "name": "Country=SA",
         "offsetgroup": "Country=SA",
         "orientation": "h",
         "showlegend": true,
         "textposition": "auto",
         "type": "bar",
         "uid": "5d1883df-9f53-4113-999f-8a423d0a8821",
         "x": [
          96,
          85,
          79,
          77
         ],
         "xaxis": "x",
         "y": [
          " Dale Steyn",
          " Albie Morkel",
          " Imran Tahir",
          " Morne Morkel"
         ],
         "yaxis": "y"
        },
        {
         "alignmentgroup": "True",
         "hoverlabel": {
          "namelength": 0
         },
         "hovertemplate": "Country=Aus<br>Wkts=%{x}<br>Player=%{y}",
         "legendgroup": "Country=Aus",
         "marker": {
          "color": "#19d3f3"
         },
         "name": "Country=Aus",
         "offsetgroup": "Country=Aus",
         "orientation": "h",
         "showlegend": true,
         "textposition": "auto",
         "type": "bar",
         "uid": "1ee7ec00-af7d-4247-a767-31b6518953e7",
         "x": [
          92
         ],
         "xaxis": "x",
         "y": [
          " Shane Watson"
         ],
         "yaxis": "y"
        }
       ],
       "layout": {
        "barmode": "relative",
        "grid": {
         "xaxes": [
          "x"
         ],
         "xgap": 0.1,
         "xside": "bottom",
         "yaxes": [
          "y"
         ],
         "ygap": 0.1,
         "yside": "left"
        },
        "height": 600,
        "legend": {
         "tracegroupgap": 0
        },
        "template": {
         "data": {
          "bar": [
           {
            "marker": {
             "line": {
              "color": "#E5ECF6",
              "width": 0.5
             }
            },
            "type": "bar"
           }
          ],
          "barpolar": [
           {
            "marker": {
             "line": {
              "color": "#E5ECF6",
              "width": 0.5
             }
            },
            "type": "barpolar"
           }
          ],
          "carpet": [
           {
            "aaxis": {
             "endlinecolor": "#2a3f5f",
             "gridcolor": "white",
             "linecolor": "white",
             "minorgridcolor": "white",
             "startlinecolor": "#2a3f5f"
            },
            "baxis": {
             "endlinecolor": "#2a3f5f",
             "gridcolor": "white",
             "linecolor": "white",
             "minorgridcolor": "white",
             "startlinecolor": "#2a3f5f"
            },
            "type": "carpet"
           }
          ],
          "choropleth": [
           {
            "colorbar": {
             "outlinewidth": 0,
             "ticks": ""
            },
            "type": "choropleth"
           }
          ],
          "contour": [
           {
            "colorbar": {
             "outlinewidth": 0,
             "ticks": ""
            },
            "colorscale": [
             [
              0,
              "#0508b8"
             ],
             [
              0.0893854748603352,
              "#1910d8"
             ],
             [
              0.1787709497206704,
              "#3c19f0"
             ],
             [
              0.2681564245810056,
              "#6b1cfb"
             ],
             [
              0.3575418994413408,
              "#981cfd"
             ],
             [
              0.44692737430167595,
              "#bf1cfd"
             ],
             [
              0.5363128491620112,
              "#dd2bfd"
             ],
             [
              0.6256983240223464,
              "#f246fe"
             ],
             [
              0.7150837988826816,
              "#fc67fd"
             ],
             [
              0.8044692737430168,
              "#fe88fc"
             ],
             [
              0.8938547486033519,
              "#fea5fd"
             ],
             [
              0.9832402234636871,
              "#febefe"
             ],
             [
              1,
              "#fec3fe"
             ]
            ],
            "type": "contour"
           }
          ],
          "contourcarpet": [
           {
            "colorbar": {
             "outlinewidth": 0,
             "ticks": ""
            },
            "type": "contourcarpet"
           }
          ],
          "heatmap": [
           {
            "colorbar": {
             "outlinewidth": 0,
             "ticks": ""
            },
            "colorscale": [
             [
              0,
              "#0508b8"
             ],
             [
              0.0893854748603352,
              "#1910d8"
             ],
             [
              0.1787709497206704,
              "#3c19f0"
             ],
             [
              0.2681564245810056,
              "#6b1cfb"
             ],
             [
              0.3575418994413408,
              "#981cfd"
             ],
             [
              0.44692737430167595,
              "#bf1cfd"
             ],
             [
              0.5363128491620112,
              "#dd2bfd"
             ],
             [
              0.6256983240223464,
              "#f246fe"
             ],
             [
              0.7150837988826816,
              "#fc67fd"
             ],
             [
              0.8044692737430168,
              "#fe88fc"
             ],
             [
              0.8938547486033519,
              "#fea5fd"
             ],
             [
              0.9832402234636871,
              "#febefe"
             ],
             [
              1,
              "#fec3fe"
             ]
            ],
            "type": "heatmap"
           }
          ],
          "heatmapgl": [
           {
            "colorbar": {
             "outlinewidth": 0,
             "ticks": ""
            },
            "type": "heatmapgl"
           }
          ],
          "histogram": [
           {
            "marker": {
             "colorbar": {
              "outlinewidth": 0,
              "ticks": ""
             }
            },
            "type": "histogram"
           }
          ],
          "histogram2d": [
           {
            "colorbar": {
             "outlinewidth": 0,
             "ticks": ""
            },
            "colorscale": [
             [
              0,
              "#0508b8"
             ],
             [
              0.0893854748603352,
              "#1910d8"
             ],
             [
              0.1787709497206704,
              "#3c19f0"
             ],
             [
              0.2681564245810056,
              "#6b1cfb"
             ],
             [
              0.3575418994413408,
              "#981cfd"
             ],
             [
              0.44692737430167595,
              "#bf1cfd"
             ],
             [
              0.5363128491620112,
              "#dd2bfd"
             ],
             [
              0.6256983240223464,
              "#f246fe"
             ],
             [
              0.7150837988826816,
              "#fc67fd"
             ],
             [
              0.8044692737430168,
              "#fe88fc"
             ],
             [
              0.8938547486033519,
              "#fea5fd"
             ],
             [
              0.9832402234636871,
              "#febefe"
             ],
             [
              1,
              "#fec3fe"
             ]
            ],
            "type": "histogram2d"
           }
          ],
          "histogram2dcontour": [
           {
            "colorbar": {
             "outlinewidth": 0,
             "ticks": ""
            },
            "colorscale": [
             [
              0,
              "#0508b8"
             ],
             [
              0.0893854748603352,
              "#1910d8"
             ],
             [
              0.1787709497206704,
              "#3c19f0"
             ],
             [
              0.2681564245810056,
              "#6b1cfb"
             ],
             [
              0.3575418994413408,
              "#981cfd"
             ],
             [
              0.44692737430167595,
              "#bf1cfd"
             ],
             [
              0.5363128491620112,
              "#dd2bfd"
             ],
             [
              0.6256983240223464,
              "#f246fe"
             ],
             [
              0.7150837988826816,
              "#fc67fd"
             ],
             [
              0.8044692737430168,
              "#fe88fc"
             ],
             [
              0.8938547486033519,
              "#fea5fd"
             ],
             [
              0.9832402234636871,
              "#febefe"
             ],
             [
              1,
              "#fec3fe"
             ]
            ],
            "type": "histogram2dcontour"
           }
          ],
          "mesh3d": [
           {
            "colorbar": {
             "outlinewidth": 0,
             "ticks": ""
            },
            "type": "mesh3d"
           }
          ],
          "parcoords": [
           {
            "line": {
             "colorbar": {
              "outlinewidth": 0,
              "ticks": ""
             }
            },
            "type": "parcoords"
           }
          ],
          "scatter": [
           {
            "marker": {
             "colorbar": {
              "outlinewidth": 0,
              "ticks": ""
             }
            },
            "type": "scatter"
           }
          ],
          "scatter3d": [
           {
            "marker": {
             "colorbar": {
              "outlinewidth": 0,
              "ticks": ""
             }
            },
            "type": "scatter3d"
           }
          ],
          "scattercarpet": [
           {
            "marker": {
             "colorbar": {
              "outlinewidth": 0,
              "ticks": ""
             }
            },
            "type": "scattercarpet"
           }
          ],
          "scattergeo": [
           {
            "marker": {
             "colorbar": {
              "outlinewidth": 0,
              "ticks": ""
             }
            },
            "type": "scattergeo"
           }
          ],
          "scattergl": [
           {
            "marker": {
             "colorbar": {
              "outlinewidth": 0,
              "ticks": ""
             }
            },
            "type": "scattergl"
           }
          ],
          "scattermapbox": [
           {
            "marker": {
             "colorbar": {
              "outlinewidth": 0,
              "ticks": ""
             }
            },
            "type": "scattermapbox"
           }
          ],
          "scatterpolar": [
           {
            "marker": {
             "colorbar": {
              "outlinewidth": 0,
              "ticks": ""
             }
            },
            "type": "scatterpolar"
           }
          ],
          "scatterpolargl": [
           {
            "marker": {
             "colorbar": {
              "outlinewidth": 0,
              "ticks": ""
             }
            },
            "type": "scatterpolargl"
           }
          ],
          "scatterternary": [
           {
            "marker": {
             "colorbar": {
              "outlinewidth": 0,
              "ticks": ""
             }
            },
            "type": "scatterternary"
           }
          ],
          "surface": [
           {
            "colorbar": {
             "outlinewidth": 0,
             "ticks": ""
            },
            "type": "surface"
           }
          ],
          "table": [
           {
            "cells": {
             "fill": {
              "color": "#EBF0F8"
             },
             "line": {
              "color": "white"
             }
            },
            "header": {
             "fill": {
              "color": "#C8D4E3"
             },
             "line": {
              "color": "white"
             }
            },
            "type": "table"
           }
          ]
         },
         "layout": {
          "annotationdefaults": {
           "arrowcolor": "#506784",
           "arrowhead": 0,
           "arrowwidth": 1
          },
          "colorscale": {
           "diverging": [
            [
             0,
             "#8e0152"
            ],
            [
             0.1,
             "#c51b7d"
            ],
            [
             0.2,
             "#de77ae"
            ],
            [
             0.3,
             "#f1b6da"
            ],
            [
             0.4,
             "#fde0ef"
            ],
            [
             0.5,
             "#f7f7f7"
            ],
            [
             0.6,
             "#e6f5d0"
            ],
            [
             0.7,
             "#b8e186"
            ],
            [
             0.8,
             "#7fbc41"
            ],
            [
             0.9,
             "#4d9221"
            ],
            [
             1,
             "#276419"
            ]
           ],
           "sequential": [
            [
             0,
             "#0508b8"
            ],
            [
             0.0893854748603352,
             "#1910d8"
            ],
            [
             0.1787709497206704,
             "#3c19f0"
            ],
            [
             0.2681564245810056,
             "#6b1cfb"
            ],
            [
             0.3575418994413408,
             "#981cfd"
            ],
            [
             0.44692737430167595,
             "#bf1cfd"
            ],
            [
             0.5363128491620112,
             "#dd2bfd"
            ],
            [
             0.6256983240223464,
             "#f246fe"
            ],
            [
             0.7150837988826816,
             "#fc67fd"
            ],
            [
             0.8044692737430168,
             "#fe88fc"
            ],
            [
             0.8938547486033519,
             "#fea5fd"
            ],
            [
             0.9832402234636871,
             "#febefe"
            ],
            [
             1,
             "#fec3fe"
            ]
           ],
           "sequentialminus": [
            [
             0,
             "#0508b8"
            ],
            [
             0.0893854748603352,
             "#1910d8"
            ],
            [
             0.1787709497206704,
             "#3c19f0"
            ],
            [
             0.2681564245810056,
             "#6b1cfb"
            ],
            [
             0.3575418994413408,
             "#981cfd"
            ],
            [
             0.44692737430167595,
             "#bf1cfd"
            ],
            [
             0.5363128491620112,
             "#dd2bfd"
            ],
            [
             0.6256983240223464,
             "#f246fe"
            ],
            [
             0.7150837988826816,
             "#fc67fd"
            ],
            [
             0.8044692737430168,
             "#fe88fc"
            ],
            [
             0.8938547486033519,
             "#fea5fd"
            ],
            [
             0.9832402234636871,
             "#febefe"
            ],
            [
             1,
             "#fec3fe"
            ]
           ]
          },
          "colorway": [
           "#636efa",
           "#EF553B",
           "#00cc96",
           "#ab63fa",
           "#19d3f3",
           "#e763fa",
           "#FECB52",
           "#FFA15A",
           "#FF6692",
           "#B6E880"
          ],
          "font": {
           "color": "#2a3f5f"
          },
          "geo": {
           "bgcolor": "white",
           "lakecolor": "white",
           "landcolor": "#E5ECF6",
           "showlakes": true,
           "showland": true,
           "subunitcolor": "white"
          },
          "hoverlabel": {
           "align": "left"
          },
          "hovermode": "closest",
          "mapbox": {
           "style": "light"
          },
          "paper_bgcolor": "white",
          "plot_bgcolor": "#E5ECF6",
          "polar": {
           "angularaxis": {
            "gridcolor": "white",
            "linecolor": "white",
            "ticks": ""
           },
           "bgcolor": "#E5ECF6",
           "radialaxis": {
            "gridcolor": "white",
            "linecolor": "white",
            "ticks": ""
           }
          },
          "scene": {
           "xaxis": {
            "backgroundcolor": "#E5ECF6",
            "gridcolor": "white",
            "gridwidth": 2,
            "linecolor": "white",
            "showbackground": true,
            "ticks": "",
            "zerolinecolor": "white"
           },
           "yaxis": {
            "backgroundcolor": "#E5ECF6",
            "gridcolor": "white",
            "gridwidth": 2,
            "linecolor": "white",
            "showbackground": true,
            "ticks": "",
            "zerolinecolor": "white"
           },
           "zaxis": {
            "backgroundcolor": "#E5ECF6",
            "gridcolor": "white",
            "gridwidth": 2,
            "linecolor": "white",
            "showbackground": true,
            "ticks": "",
            "zerolinecolor": "white"
           }
          },
          "shapedefaults": {
           "fillcolor": "#506784",
           "line": {
            "width": 0
           },
           "opacity": 0.4
          },
          "ternary": {
           "aaxis": {
            "gridcolor": "white",
            "linecolor": "white",
            "ticks": ""
           },
           "baxis": {
            "gridcolor": "white",
            "linecolor": "white",
            "ticks": ""
           },
           "bgcolor": "#E5ECF6",
           "caxis": {
            "gridcolor": "white",
            "linecolor": "white",
            "ticks": ""
           }
          },
          "title": {
           "x": 0.05
          },
          "xaxis": {
           "automargin": true,
           "gridcolor": "white",
           "linecolor": "white",
           "ticks": "",
           "zerolinecolor": "white",
           "zerolinewidth": 2
          },
          "yaxis": {
           "automargin": true,
           "gridcolor": "white",
           "linecolor": "white",
           "ticks": "",
           "zerolinecolor": "white",
           "zerolinewidth": 2
          }
         }
        },
        "title": {
         "text": "Sixes by IPL Batsmen"
        },
        "xaxis": {
         "title": {
          "text": "Wkts"
         }
        },
        "yaxis": {
         "title": {
          "text": "Player"
         }
        }
       }
      },
      "text/html": [
       "<div>\n",
       "        \n",
       "        \n",
       "            <div id=\"39aee3ee-2430-4d1a-9bae-f7a7b2830e52\" class=\"plotly-graph-div\" style=\"height:600px; width:100%;\"></div>\n",
       "            <script type=\"text/javascript\">\n",
       "                require([\"plotly\"], function(Plotly) {\n",
       "                    window.PLOTLYENV=window.PLOTLYENV || {};\n",
       "                    window.PLOTLYENV.BASE_URL='https://plot.ly';\n",
       "                    \n",
       "                if (document.getElementById(\"39aee3ee-2430-4d1a-9bae-f7a7b2830e52\")) {\n",
       "                    Plotly.newPlot(\n",
       "                        '39aee3ee-2430-4d1a-9bae-f7a7b2830e52',\n",
       "                        [{\"alignmentgroup\": \"True\", \"hoverlabel\": {\"namelength\": 0}, \"hovertemplate\": \"Country=SL<br>Wkts=%{x}<br>Player=%{y}\", \"legendgroup\": \"Country=SL\", \"marker\": {\"color\": \"#636efa\"}, \"name\": \"Country=SL\", \"offsetgroup\": \"Country=SL\", \"orientation\": \"h\", \"showlegend\": true, \"textposition\": \"auto\", \"type\": \"bar\", \"uid\": \"564eeeb3-5d89-494f-a772-28d4c9300cd3\", \"x\": [170], \"xaxis\": \"x\", \"y\": [\"LasithMalinga\"], \"yaxis\": \"y\"}, {\"alignmentgroup\": \"True\", \"hoverlabel\": {\"namelength\": 0}, \"hovertemplate\": \"Country=Ind<br>Wkts=%{x}<br>Player=%{y}\", \"legendgroup\": \"Country=Ind\", \"marker\": {\"color\": \"#EF553B\"}, \"name\": \"Country=Ind\", \"offsetgroup\": \"Country=Ind\", \"orientation\": \"h\", \"showlegend\": true, \"textposition\": \"auto\", \"type\": \"bar\", \"uid\": \"c81b81f9-a6ff-4a74-8b55-3e93c132b053\", \"x\": [157, 150, 150, 133, 125, 119, 108, 106, 105, 102, 100, 95, 91, 90, 90, 89, 86, 82, 80, 77, 76, 74], \"xaxis\": \"x\", \"y\": [\"\\u00a0Amit\\u00a0Mishra\", \"\\u00a0Harbhajan\\u00a0Singh\", \"\\u00a0Piyush\\u00a0Chawla\", \"\\u00a0Bhuvneshwar\\u00a0Kumar\", \"\\u00a0Ravichandran\\u00a0Ashwin\", \"\\u00a0Umesh\\u00a0Yadav\", \"\\u00a0Ravindra\\u00a0Jadeja\", \"\\u00a0Ashish\\u00a0Nehra\", \"\\u00a0Vinay\\u00a0Kumar\", \"\\u00a0Zaheer\\u00a0Khan\", \"\\u00a0Yuzvendra\\u00a0Chahal\", \"\\u00a0Sandeep\\u00a0Sharma\", \"\\u00a0Mohit\\u00a0Sharma\", \"\\u00a0Praveen\\u00a0Kumar\", \"\\u00a0RP\\u00a0Singh\", \"\\u00a0Pragyan\\u00a0Ojha\", \"\\u00a0Dhawal\\u00a0Kulkarni\", \"\\u00a0Jasprit\\u00a0Bumrah\", \"\\u00a0Irfan\\u00a0Pathan\", \"\\u00a0Jaydev\\u00a0Unadkat\", \"\\u00a0Lakshmipathy\\u00a0Balaji\", \"\\u00a0Munaf\\u00a0Patel\"], \"yaxis\": \"y\"}, {\"alignmentgroup\": \"True\", \"hoverlabel\": {\"namelength\": 0}, \"hovertemplate\": \"Country=WI<br>Wkts=%{x}<br>Player=%{y}\", \"legendgroup\": \"Country=WI\", \"marker\": {\"color\": \"#00cc96\"}, \"name\": \"Country=WI\", \"offsetgroup\": \"Country=WI\", \"orientation\": \"h\", \"showlegend\": true, \"textposition\": \"auto\", \"type\": \"bar\", \"uid\": \"befa7a6f-79d3-4b24-8b36-df7b462dd952\", \"x\": [147, 122], \"xaxis\": \"x\", \"y\": [\"\\u00a0Dwayne\\u00a0Bravo\", \"\\u00a0Sunil\\u00a0Narine\"], \"yaxis\": \"y\"}, {\"alignmentgroup\": \"True\", \"hoverlabel\": {\"namelength\": 0}, \"hovertemplate\": \"Country=SA<br>Wkts=%{x}<br>Player=%{y}\", \"legendgroup\": \"Country=SA\", \"marker\": {\"color\": \"#ab63fa\"}, \"name\": \"Country=SA\", \"offsetgroup\": \"Country=SA\", \"orientation\": \"h\", \"showlegend\": true, \"textposition\": \"auto\", \"type\": \"bar\", \"uid\": \"5d1883df-9f53-4113-999f-8a423d0a8821\", \"x\": [96, 85, 79, 77], \"xaxis\": \"x\", \"y\": [\"\\u00a0Dale\\u00a0Steyn\", \"\\u00a0Albie\\u00a0Morkel\", \"\\u00a0Imran\\u00a0Tahir\", \"\\u00a0Morne\\u00a0Morkel\"], \"yaxis\": \"y\"}, {\"alignmentgroup\": \"True\", \"hoverlabel\": {\"namelength\": 0}, \"hovertemplate\": \"Country=Aus<br>Wkts=%{x}<br>Player=%{y}\", \"legendgroup\": \"Country=Aus\", \"marker\": {\"color\": \"#19d3f3\"}, \"name\": \"Country=Aus\", \"offsetgroup\": \"Country=Aus\", \"orientation\": \"h\", \"showlegend\": true, \"textposition\": \"auto\", \"type\": \"bar\", \"uid\": \"1ee7ec00-af7d-4247-a767-31b6518953e7\", \"x\": [92], \"xaxis\": \"x\", \"y\": [\"\\u00a0Shane\\u00a0Watson\"], \"yaxis\": \"y\"}],\n",
       "                        {\"barmode\": \"relative\", \"grid\": {\"xaxes\": [\"x\"], \"xgap\": 0.1, \"xside\": \"bottom\", \"yaxes\": [\"y\"], \"ygap\": 0.1, \"yside\": \"left\"}, \"height\": 600, \"legend\": {\"tracegroupgap\": 0}, \"template\": {\"data\": {\"bar\": [{\"marker\": {\"line\": {\"color\": \"#E5ECF6\", \"width\": 0.5}}, \"type\": \"bar\"}], \"barpolar\": [{\"marker\": {\"line\": {\"color\": \"#E5ECF6\", \"width\": 0.5}}, \"type\": \"barpolar\"}], \"carpet\": [{\"aaxis\": {\"endlinecolor\": \"#2a3f5f\", \"gridcolor\": \"white\", \"linecolor\": \"white\", \"minorgridcolor\": \"white\", \"startlinecolor\": \"#2a3f5f\"}, \"baxis\": {\"endlinecolor\": \"#2a3f5f\", \"gridcolor\": \"white\", \"linecolor\": \"white\", \"minorgridcolor\": \"white\", \"startlinecolor\": \"#2a3f5f\"}, \"type\": \"carpet\"}], \"choropleth\": [{\"colorbar\": {\"outlinewidth\": 0, \"ticks\": \"\"}, \"type\": \"choropleth\"}], \"contour\": [{\"colorbar\": {\"outlinewidth\": 0, \"ticks\": \"\"}, \"colorscale\": [[0.0, \"#0508b8\"], [0.0893854748603352, \"#1910d8\"], [0.1787709497206704, \"#3c19f0\"], [0.2681564245810056, \"#6b1cfb\"], [0.3575418994413408, \"#981cfd\"], [0.44692737430167595, \"#bf1cfd\"], [0.5363128491620112, \"#dd2bfd\"], [0.6256983240223464, \"#f246fe\"], [0.7150837988826816, \"#fc67fd\"], [0.8044692737430168, \"#fe88fc\"], [0.8938547486033519, \"#fea5fd\"], [0.9832402234636871, \"#febefe\"], [1.0, \"#fec3fe\"]], \"type\": \"contour\"}], \"contourcarpet\": [{\"colorbar\": {\"outlinewidth\": 0, \"ticks\": \"\"}, \"type\": \"contourcarpet\"}], \"heatmap\": [{\"colorbar\": {\"outlinewidth\": 0, \"ticks\": \"\"}, \"colorscale\": [[0.0, \"#0508b8\"], [0.0893854748603352, \"#1910d8\"], [0.1787709497206704, \"#3c19f0\"], [0.2681564245810056, \"#6b1cfb\"], [0.3575418994413408, \"#981cfd\"], [0.44692737430167595, \"#bf1cfd\"], [0.5363128491620112, \"#dd2bfd\"], [0.6256983240223464, \"#f246fe\"], [0.7150837988826816, \"#fc67fd\"], [0.8044692737430168, \"#fe88fc\"], [0.8938547486033519, \"#fea5fd\"], [0.9832402234636871, \"#febefe\"], [1.0, \"#fec3fe\"]], \"type\": \"heatmap\"}], \"heatmapgl\": [{\"colorbar\": {\"outlinewidth\": 0, \"ticks\": \"\"}, \"type\": \"heatmapgl\"}], \"histogram\": [{\"marker\": {\"colorbar\": {\"outlinewidth\": 0, \"ticks\": \"\"}}, \"type\": \"histogram\"}], \"histogram2d\": [{\"colorbar\": {\"outlinewidth\": 0, \"ticks\": \"\"}, \"colorscale\": [[0.0, \"#0508b8\"], [0.0893854748603352, \"#1910d8\"], [0.1787709497206704, \"#3c19f0\"], [0.2681564245810056, \"#6b1cfb\"], [0.3575418994413408, \"#981cfd\"], [0.44692737430167595, \"#bf1cfd\"], [0.5363128491620112, \"#dd2bfd\"], [0.6256983240223464, \"#f246fe\"], [0.7150837988826816, \"#fc67fd\"], [0.8044692737430168, \"#fe88fc\"], [0.8938547486033519, \"#fea5fd\"], [0.9832402234636871, \"#febefe\"], [1.0, \"#fec3fe\"]], \"type\": \"histogram2d\"}], \"histogram2dcontour\": [{\"colorbar\": {\"outlinewidth\": 0, \"ticks\": \"\"}, \"colorscale\": [[0.0, \"#0508b8\"], [0.0893854748603352, \"#1910d8\"], [0.1787709497206704, \"#3c19f0\"], [0.2681564245810056, \"#6b1cfb\"], [0.3575418994413408, \"#981cfd\"], [0.44692737430167595, \"#bf1cfd\"], [0.5363128491620112, \"#dd2bfd\"], [0.6256983240223464, \"#f246fe\"], [0.7150837988826816, \"#fc67fd\"], [0.8044692737430168, \"#fe88fc\"], [0.8938547486033519, \"#fea5fd\"], [0.9832402234636871, \"#febefe\"], [1.0, \"#fec3fe\"]], \"type\": \"histogram2dcontour\"}], \"mesh3d\": [{\"colorbar\": {\"outlinewidth\": 0, \"ticks\": \"\"}, \"type\": \"mesh3d\"}], \"parcoords\": [{\"line\": {\"colorbar\": {\"outlinewidth\": 0, \"ticks\": \"\"}}, \"type\": \"parcoords\"}], \"scatter\": [{\"marker\": {\"colorbar\": {\"outlinewidth\": 0, \"ticks\": \"\"}}, \"type\": \"scatter\"}], \"scatter3d\": [{\"marker\": {\"colorbar\": {\"outlinewidth\": 0, \"ticks\": \"\"}}, \"type\": \"scatter3d\"}], \"scattercarpet\": [{\"marker\": {\"colorbar\": {\"outlinewidth\": 0, \"ticks\": \"\"}}, \"type\": \"scattercarpet\"}], \"scattergeo\": [{\"marker\": {\"colorbar\": {\"outlinewidth\": 0, \"ticks\": \"\"}}, \"type\": \"scattergeo\"}], \"scattergl\": [{\"marker\": {\"colorbar\": {\"outlinewidth\": 0, \"ticks\": \"\"}}, \"type\": \"scattergl\"}], \"scattermapbox\": [{\"marker\": {\"colorbar\": {\"outlinewidth\": 0, \"ticks\": \"\"}}, \"type\": \"scattermapbox\"}], \"scatterpolar\": [{\"marker\": {\"colorbar\": {\"outlinewidth\": 0, \"ticks\": \"\"}}, \"type\": \"scatterpolar\"}], \"scatterpolargl\": [{\"marker\": {\"colorbar\": {\"outlinewidth\": 0, \"ticks\": \"\"}}, \"type\": \"scatterpolargl\"}], \"scatterternary\": [{\"marker\": {\"colorbar\": {\"outlinewidth\": 0, \"ticks\": \"\"}}, \"type\": \"scatterternary\"}], \"surface\": [{\"colorbar\": {\"outlinewidth\": 0, \"ticks\": \"\"}, \"type\": \"surface\"}], \"table\": [{\"cells\": {\"fill\": {\"color\": \"#EBF0F8\"}, \"line\": {\"color\": \"white\"}}, \"header\": {\"fill\": {\"color\": \"#C8D4E3\"}, \"line\": {\"color\": \"white\"}}, \"type\": \"table\"}]}, \"layout\": {\"annotationdefaults\": {\"arrowcolor\": \"#506784\", \"arrowhead\": 0, \"arrowwidth\": 1}, \"colorscale\": {\"diverging\": [[0, \"#8e0152\"], [0.1, \"#c51b7d\"], [0.2, \"#de77ae\"], [0.3, \"#f1b6da\"], [0.4, \"#fde0ef\"], [0.5, \"#f7f7f7\"], [0.6, \"#e6f5d0\"], [0.7, \"#b8e186\"], [0.8, \"#7fbc41\"], [0.9, \"#4d9221\"], [1, \"#276419\"]], \"sequential\": [[0.0, \"#0508b8\"], [0.0893854748603352, \"#1910d8\"], [0.1787709497206704, \"#3c19f0\"], [0.2681564245810056, \"#6b1cfb\"], [0.3575418994413408, \"#981cfd\"], [0.44692737430167595, \"#bf1cfd\"], [0.5363128491620112, \"#dd2bfd\"], [0.6256983240223464, \"#f246fe\"], [0.7150837988826816, \"#fc67fd\"], [0.8044692737430168, \"#fe88fc\"], [0.8938547486033519, \"#fea5fd\"], [0.9832402234636871, \"#febefe\"], [1.0, \"#fec3fe\"]], \"sequentialminus\": [[0.0, \"#0508b8\"], [0.0893854748603352, \"#1910d8\"], [0.1787709497206704, \"#3c19f0\"], [0.2681564245810056, \"#6b1cfb\"], [0.3575418994413408, \"#981cfd\"], [0.44692737430167595, \"#bf1cfd\"], [0.5363128491620112, \"#dd2bfd\"], [0.6256983240223464, \"#f246fe\"], [0.7150837988826816, \"#fc67fd\"], [0.8044692737430168, \"#fe88fc\"], [0.8938547486033519, \"#fea5fd\"], [0.9832402234636871, \"#febefe\"], [1.0, \"#fec3fe\"]]}, \"colorway\": [\"#636efa\", \"#EF553B\", \"#00cc96\", \"#ab63fa\", \"#19d3f3\", \"#e763fa\", \"#FECB52\", \"#FFA15A\", \"#FF6692\", \"#B6E880\"], \"font\": {\"color\": \"#2a3f5f\"}, \"geo\": {\"bgcolor\": \"white\", \"lakecolor\": \"white\", \"landcolor\": \"#E5ECF6\", \"showlakes\": true, \"showland\": true, \"subunitcolor\": \"white\"}, \"hoverlabel\": {\"align\": \"left\"}, \"hovermode\": \"closest\", \"mapbox\": {\"style\": \"light\"}, \"paper_bgcolor\": \"white\", \"plot_bgcolor\": \"#E5ECF6\", \"polar\": {\"angularaxis\": {\"gridcolor\": \"white\", \"linecolor\": \"white\", \"ticks\": \"\"}, \"bgcolor\": \"#E5ECF6\", \"radialaxis\": {\"gridcolor\": \"white\", \"linecolor\": \"white\", \"ticks\": \"\"}}, \"scene\": {\"xaxis\": {\"backgroundcolor\": \"#E5ECF6\", \"gridcolor\": \"white\", \"gridwidth\": 2, \"linecolor\": \"white\", \"showbackground\": true, \"ticks\": \"\", \"zerolinecolor\": \"white\"}, \"yaxis\": {\"backgroundcolor\": \"#E5ECF6\", \"gridcolor\": \"white\", \"gridwidth\": 2, \"linecolor\": \"white\", \"showbackground\": true, \"ticks\": \"\", \"zerolinecolor\": \"white\"}, \"zaxis\": {\"backgroundcolor\": \"#E5ECF6\", \"gridcolor\": \"white\", \"gridwidth\": 2, \"linecolor\": \"white\", \"showbackground\": true, \"ticks\": \"\", \"zerolinecolor\": \"white\"}}, \"shapedefaults\": {\"fillcolor\": \"#506784\", \"line\": {\"width\": 0}, \"opacity\": 0.4}, \"ternary\": {\"aaxis\": {\"gridcolor\": \"white\", \"linecolor\": \"white\", \"ticks\": \"\"}, \"baxis\": {\"gridcolor\": \"white\", \"linecolor\": \"white\", \"ticks\": \"\"}, \"bgcolor\": \"#E5ECF6\", \"caxis\": {\"gridcolor\": \"white\", \"linecolor\": \"white\", \"ticks\": \"\"}}, \"title\": {\"x\": 0.05}, \"xaxis\": {\"automargin\": true, \"gridcolor\": \"white\", \"linecolor\": \"white\", \"ticks\": \"\", \"zerolinecolor\": \"white\", \"zerolinewidth\": 2}, \"yaxis\": {\"automargin\": true, \"gridcolor\": \"white\", \"linecolor\": \"white\", \"ticks\": \"\", \"zerolinecolor\": \"white\", \"zerolinewidth\": 2}}}, \"title\": {\"text\": \"Sixes by IPL Batsmen\"}, \"xaxis\": {\"title\": {\"text\": \"Wkts\"}}, \"yaxis\": {\"title\": {\"text\": \"Player\"}}},\n",
       "                        {\"showLink\": false, \"linkText\": \"Export to plot.ly\", \"plotlyServerURL\": \"https://plot.ly\", \"responsive\": true}\n",
       "                    ).then(function(){\n",
       "                            \n",
       "var gd = document.getElementById('39aee3ee-2430-4d1a-9bae-f7a7b2830e52');\n",
       "var x = new MutationObserver(function (mutations, observer) {{\n",
       "        var display = window.getComputedStyle(gd).display;\n",
       "        if (!display || display === 'none') {{\n",
       "            console.log([gd, 'removed!']);\n",
       "            Plotly.purge(gd);\n",
       "            observer.disconnect();\n",
       "        }}\n",
       "}});\n",
       "\n",
       "// Listen for the removal of the full notebook cells\n",
       "var notebookContainer = gd.closest('#notebook-container');\n",
       "if (notebookContainer) {{\n",
       "    x.observe(notebookContainer, {childList: true});\n",
       "}}\n",
       "\n",
       "// Listen for the clearing of the current output cell\n",
       "var outputEl = gd.closest('.output');\n",
       "if (outputEl) {{\n",
       "    x.observe(outputEl, {childList: true});\n",
       "}}\n",
       "\n",
       "                        })\n",
       "                };\n",
       "                });\n",
       "            </script>\n",
       "        </div>"
      ]
     },
     "metadata": {},
     "output_type": "display_data"
    }
   ],
   "source": [
    "px.bar(wickets_data, x = \"Wkts\",y = \"Player\", color = \"Country\", title = \"Sixes by IPL Batsmen\", orientation = \"h\")"
   ]
  },
  {
   "cell_type": "code",
   "execution_count": 256,
   "metadata": {},
   "outputs": [
    {
     "data": {
      "text/html": [
       "<div>\n",
       "<style scoped>\n",
       "    .dataframe tbody tr th:only-of-type {\n",
       "        vertical-align: middle;\n",
       "    }\n",
       "\n",
       "    .dataframe tbody tr th {\n",
       "        vertical-align: top;\n",
       "    }\n",
       "\n",
       "    .dataframe thead th {\n",
       "        text-align: right;\n",
       "    }\n",
       "</style>\n",
       "<table border=\"1\" class=\"dataframe\">\n",
       "  <thead>\n",
       "    <tr style=\"text-align: right;\">\n",
       "      <th></th>\n",
       "      <th>POS</th>\n",
       "      <th>PLAYER</th>\n",
       "      <th>HS</th>\n",
       "      <th>BF</th>\n",
       "      <th>4s</th>\n",
       "      <th>6s</th>\n",
       "      <th>NO</th>\n",
       "    </tr>\n",
       "  </thead>\n",
       "  <tbody>\n",
       "    <tr>\n",
       "      <th>0</th>\n",
       "      <td>1</td>\n",
       "      <td>ChrisGayle</td>\n",
       "      <td>175</td>\n",
       "      <td>66</td>\n",
       "      <td>13</td>\n",
       "      <td>17</td>\n",
       "      <td>Y</td>\n",
       "    </tr>\n",
       "    <tr>\n",
       "      <th>1</th>\n",
       "      <td>2</td>\n",
       "      <td>Brendon McCullum</td>\n",
       "      <td>158</td>\n",
       "      <td>73</td>\n",
       "      <td>10</td>\n",
       "      <td>13</td>\n",
       "      <td>Y</td>\n",
       "    </tr>\n",
       "    <tr>\n",
       "      <th>2</th>\n",
       "      <td>3</td>\n",
       "      <td>AB de Villiers</td>\n",
       "      <td>133</td>\n",
       "      <td>59</td>\n",
       "      <td>19</td>\n",
       "      <td>4</td>\n",
       "      <td>Y</td>\n",
       "    </tr>\n",
       "    <tr>\n",
       "      <th>3</th>\n",
       "      <td>4</td>\n",
       "      <td>AB de Villiers</td>\n",
       "      <td>129</td>\n",
       "      <td>52</td>\n",
       "      <td>10</td>\n",
       "      <td>12</td>\n",
       "      <td>Y</td>\n",
       "    </tr>\n",
       "  </tbody>\n",
       "</table>\n",
       "</div>"
      ],
      "text/plain": [
       "   POS             PLAYER   HS  BF  4s  6s NO\n",
       "0    1         ChrisGayle  175  66  13  17  Y\n",
       "1    2   Brendon McCullum  158  73  10  13  Y\n",
       "2    3     AB de Villiers  133  59  19   4  Y\n",
       "3    4     AB de Villiers  129  52  10  12  Y"
      ]
     },
     "execution_count": 256,
     "metadata": {},
     "output_type": "execute_result"
    }
   ],
   "source": [
    "\n",
    "high_score_in=pd.read_csv(\"Desktop/ipl_data/high_score_in.csv\")\n",
    "high_score_in.head(4)"
   ]
  },
  {
   "cell_type": "code",
   "execution_count": 257,
   "metadata": {},
   "outputs": [
    {
     "data": {
      "application/vnd.plotly.v1+json": {
       "config": {
        "linkText": "Export to plot.ly",
        "plotlyServerURL": "https://plot.ly",
        "showLink": false
       },
       "data": [
        {
         "hoverlabel": {
          "namelength": 0
         },
         "hovertemplate": "PLAYER=%{x}<br>HS=%{marker.size}",
         "legendgroup": "PLAYER=ChrisGayle",
         "marker": {
          "color": "#636efa",
          "size": [
           175
          ],
          "sizemode": "area",
          "sizeref": 0.0175,
          "symbol": "circle"
         },
         "mode": "markers",
         "name": "PLAYER=ChrisGayle",
         "showlegend": true,
         "type": "scatter",
         "uid": "c0e5e8c7-3315-4cdb-b300-7db9d3295a6a",
         "x": [
          "ChrisGayle"
         ],
         "xaxis": "x",
         "y": [
          175
         ],
         "yaxis": "y"
        },
        {
         "hoverlabel": {
          "namelength": 0
         },
         "hovertemplate": "PLAYER=%{x}<br>HS=%{marker.size}",
         "legendgroup": "PLAYER= Brendon McCullum",
         "marker": {
          "color": "#EF553B",
          "size": [
           158
          ],
          "sizemode": "area",
          "sizeref": 0.0175,
          "symbol": "circle"
         },
         "mode": "markers",
         "name": "PLAYER= Brendon McCullum",
         "showlegend": true,
         "type": "scatter",
         "uid": "eda0bb69-25cd-4583-a2a2-f562eeffca70",
         "x": [
          " Brendon McCullum"
         ],
         "xaxis": "x",
         "y": [
          158
         ],
         "yaxis": "y"
        },
        {
         "hoverlabel": {
          "namelength": 0
         },
         "hovertemplate": "PLAYER=%{x}<br>HS=%{marker.size}",
         "legendgroup": "PLAYER= AB de Villiers",
         "marker": {
          "color": "#00cc96",
          "size": [
           133,
           129
          ],
          "sizemode": "area",
          "sizeref": 0.0175,
          "symbol": "circle"
         },
         "mode": "markers",
         "name": "PLAYER= AB de Villiers",
         "showlegend": true,
         "type": "scatter",
         "uid": "90bed609-e14b-4b23-9931-2d0e4044d253",
         "x": [
          " AB de Villiers",
          " AB de Villiers"
         ],
         "xaxis": "x",
         "y": [
          133,
          129
         ],
         "yaxis": "y"
        },
        {
         "hoverlabel": {
          "namelength": 0
         },
         "hovertemplate": "PLAYER=%{x}<br>HS=%{marker.size}",
         "legendgroup": "PLAYER= Chris Gayle",
         "marker": {
          "color": "#ab63fa",
          "size": [
           128
          ],
          "sizemode": "area",
          "sizeref": 0.0175,
          "symbol": "circle"
         },
         "mode": "markers",
         "name": "PLAYER= Chris Gayle",
         "showlegend": true,
         "type": "scatter",
         "uid": "0d2b844d-84e8-4bb7-99eb-f5e751eaa936",
         "x": [
          " Chris Gayle"
         ],
         "xaxis": "x",
         "y": [
          128
         ],
         "yaxis": "y"
        },
        {
         "hoverlabel": {
          "namelength": 0
         },
         "hovertemplate": "PLAYER=%{x}<br>HS=%{marker.size}",
         "legendgroup": "PLAYER= Rishabh Pant",
         "marker": {
          "color": "#19d3f3",
          "size": [
           128
          ],
          "sizemode": "area",
          "sizeref": 0.0175,
          "symbol": "circle"
         },
         "mode": "markers",
         "name": "PLAYER= Rishabh Pant",
         "showlegend": true,
         "type": "scatter",
         "uid": "ea6710b1-6aeb-48b7-96bc-2c5a39a43e4f",
         "x": [
          " Rishabh Pant"
         ],
         "xaxis": "x",
         "y": [
          128
         ],
         "yaxis": "y"
        },
        {
         "hoverlabel": {
          "namelength": 0
         },
         "hovertemplate": "PLAYER=%{x}<br>HS=%{marker.size}",
         "legendgroup": "PLAYER= Murali Vijay",
         "marker": {
          "color": "#e763fa",
          "size": [
           127
          ],
          "sizemode": "area",
          "sizeref": 0.0175,
          "symbol": "circle"
         },
         "mode": "markers",
         "name": "PLAYER= Murali Vijay",
         "showlegend": true,
         "type": "scatter",
         "uid": "cc2eeebf-61a3-45ef-87de-5daf6d946605",
         "x": [
          " Murali Vijay"
         ],
         "xaxis": "x",
         "y": [
          127
         ],
         "yaxis": "y"
        },
        {
         "hoverlabel": {
          "namelength": 0
         },
         "hovertemplate": "PLAYER=%{x}<br>HS=%{marker.size}",
         "legendgroup": "PLAYER= David Warner",
         "marker": {
          "color": "#FECB52",
          "size": [
           126
          ],
          "sizemode": "area",
          "sizeref": 0.0175,
          "symbol": "circle"
         },
         "mode": "markers",
         "name": "PLAYER= David Warner",
         "showlegend": true,
         "type": "scatter",
         "uid": "7b0b7377-2e41-4bf7-9e3c-6a6b73abefbf",
         "x": [
          " David Warner"
         ],
         "xaxis": "x",
         "y": [
          126
         ],
         "yaxis": "y"
        },
        {
         "hoverlabel": {
          "namelength": 0
         },
         "hovertemplate": "PLAYER=%{x}<br>HS=%{marker.size}",
         "legendgroup": "PLAYER= Virender Sehwag",
         "marker": {
          "color": "#FFA15A",
          "size": [
           122
          ],
          "sizemode": "area",
          "sizeref": 0.0175,
          "symbol": "circle"
         },
         "mode": "markers",
         "name": "PLAYER= Virender Sehwag",
         "showlegend": true,
         "type": "scatter",
         "uid": "2f2b14dc-1c70-40ae-81bc-adf19f2122cb",
         "x": [
          " Virender Sehwag"
         ],
         "xaxis": "x",
         "y": [
          122
         ],
         "yaxis": "y"
        }
       ],
       "layout": {
        "grid": {
         "xaxes": [
          "x"
         ],
         "xgap": 0.1,
         "xside": "bottom",
         "yaxes": [
          "y"
         ],
         "ygap": 0.1,
         "yside": "left"
        },
        "height": 600,
        "legend": {
         "itemsizing": "constant",
         "tracegroupgap": 0
        },
        "margin": {
         "t": 60
        },
        "template": {
         "data": {
          "bar": [
           {
            "marker": {
             "line": {
              "color": "#E5ECF6",
              "width": 0.5
             }
            },
            "type": "bar"
           }
          ],
          "barpolar": [
           {
            "marker": {
             "line": {
              "color": "#E5ECF6",
              "width": 0.5
             }
            },
            "type": "barpolar"
           }
          ],
          "carpet": [
           {
            "aaxis": {
             "endlinecolor": "#2a3f5f",
             "gridcolor": "white",
             "linecolor": "white",
             "minorgridcolor": "white",
             "startlinecolor": "#2a3f5f"
            },
            "baxis": {
             "endlinecolor": "#2a3f5f",
             "gridcolor": "white",
             "linecolor": "white",
             "minorgridcolor": "white",
             "startlinecolor": "#2a3f5f"
            },
            "type": "carpet"
           }
          ],
          "choropleth": [
           {
            "colorbar": {
             "outlinewidth": 0,
             "ticks": ""
            },
            "type": "choropleth"
           }
          ],
          "contour": [
           {
            "colorbar": {
             "outlinewidth": 0,
             "ticks": ""
            },
            "colorscale": [
             [
              0,
              "#0508b8"
             ],
             [
              0.0893854748603352,
              "#1910d8"
             ],
             [
              0.1787709497206704,
              "#3c19f0"
             ],
             [
              0.2681564245810056,
              "#6b1cfb"
             ],
             [
              0.3575418994413408,
              "#981cfd"
             ],
             [
              0.44692737430167595,
              "#bf1cfd"
             ],
             [
              0.5363128491620112,
              "#dd2bfd"
             ],
             [
              0.6256983240223464,
              "#f246fe"
             ],
             [
              0.7150837988826816,
              "#fc67fd"
             ],
             [
              0.8044692737430168,
              "#fe88fc"
             ],
             [
              0.8938547486033519,
              "#fea5fd"
             ],
             [
              0.9832402234636871,
              "#febefe"
             ],
             [
              1,
              "#fec3fe"
             ]
            ],
            "type": "contour"
           }
          ],
          "contourcarpet": [
           {
            "colorbar": {
             "outlinewidth": 0,
             "ticks": ""
            },
            "type": "contourcarpet"
           }
          ],
          "heatmap": [
           {
            "colorbar": {
             "outlinewidth": 0,
             "ticks": ""
            },
            "colorscale": [
             [
              0,
              "#0508b8"
             ],
             [
              0.0893854748603352,
              "#1910d8"
             ],
             [
              0.1787709497206704,
              "#3c19f0"
             ],
             [
              0.2681564245810056,
              "#6b1cfb"
             ],
             [
              0.3575418994413408,
              "#981cfd"
             ],
             [
              0.44692737430167595,
              "#bf1cfd"
             ],
             [
              0.5363128491620112,
              "#dd2bfd"
             ],
             [
              0.6256983240223464,
              "#f246fe"
             ],
             [
              0.7150837988826816,
              "#fc67fd"
             ],
             [
              0.8044692737430168,
              "#fe88fc"
             ],
             [
              0.8938547486033519,
              "#fea5fd"
             ],
             [
              0.9832402234636871,
              "#febefe"
             ],
             [
              1,
              "#fec3fe"
             ]
            ],
            "type": "heatmap"
           }
          ],
          "heatmapgl": [
           {
            "colorbar": {
             "outlinewidth": 0,
             "ticks": ""
            },
            "type": "heatmapgl"
           }
          ],
          "histogram": [
           {
            "marker": {
             "colorbar": {
              "outlinewidth": 0,
              "ticks": ""
             }
            },
            "type": "histogram"
           }
          ],
          "histogram2d": [
           {
            "colorbar": {
             "outlinewidth": 0,
             "ticks": ""
            },
            "colorscale": [
             [
              0,
              "#0508b8"
             ],
             [
              0.0893854748603352,
              "#1910d8"
             ],
             [
              0.1787709497206704,
              "#3c19f0"
             ],
             [
              0.2681564245810056,
              "#6b1cfb"
             ],
             [
              0.3575418994413408,
              "#981cfd"
             ],
             [
              0.44692737430167595,
              "#bf1cfd"
             ],
             [
              0.5363128491620112,
              "#dd2bfd"
             ],
             [
              0.6256983240223464,
              "#f246fe"
             ],
             [
              0.7150837988826816,
              "#fc67fd"
             ],
             [
              0.8044692737430168,
              "#fe88fc"
             ],
             [
              0.8938547486033519,
              "#fea5fd"
             ],
             [
              0.9832402234636871,
              "#febefe"
             ],
             [
              1,
              "#fec3fe"
             ]
            ],
            "type": "histogram2d"
           }
          ],
          "histogram2dcontour": [
           {
            "colorbar": {
             "outlinewidth": 0,
             "ticks": ""
            },
            "colorscale": [
             [
              0,
              "#0508b8"
             ],
             [
              0.0893854748603352,
              "#1910d8"
             ],
             [
              0.1787709497206704,
              "#3c19f0"
             ],
             [
              0.2681564245810056,
              "#6b1cfb"
             ],
             [
              0.3575418994413408,
              "#981cfd"
             ],
             [
              0.44692737430167595,
              "#bf1cfd"
             ],
             [
              0.5363128491620112,
              "#dd2bfd"
             ],
             [
              0.6256983240223464,
              "#f246fe"
             ],
             [
              0.7150837988826816,
              "#fc67fd"
             ],
             [
              0.8044692737430168,
              "#fe88fc"
             ],
             [
              0.8938547486033519,
              "#fea5fd"
             ],
             [
              0.9832402234636871,
              "#febefe"
             ],
             [
              1,
              "#fec3fe"
             ]
            ],
            "type": "histogram2dcontour"
           }
          ],
          "mesh3d": [
           {
            "colorbar": {
             "outlinewidth": 0,
             "ticks": ""
            },
            "type": "mesh3d"
           }
          ],
          "parcoords": [
           {
            "line": {
             "colorbar": {
              "outlinewidth": 0,
              "ticks": ""
             }
            },
            "type": "parcoords"
           }
          ],
          "scatter": [
           {
            "marker": {
             "colorbar": {
              "outlinewidth": 0,
              "ticks": ""
             }
            },
            "type": "scatter"
           }
          ],
          "scatter3d": [
           {
            "marker": {
             "colorbar": {
              "outlinewidth": 0,
              "ticks": ""
             }
            },
            "type": "scatter3d"
           }
          ],
          "scattercarpet": [
           {
            "marker": {
             "colorbar": {
              "outlinewidth": 0,
              "ticks": ""
             }
            },
            "type": "scattercarpet"
           }
          ],
          "scattergeo": [
           {
            "marker": {
             "colorbar": {
              "outlinewidth": 0,
              "ticks": ""
             }
            },
            "type": "scattergeo"
           }
          ],
          "scattergl": [
           {
            "marker": {
             "colorbar": {
              "outlinewidth": 0,
              "ticks": ""
             }
            },
            "type": "scattergl"
           }
          ],
          "scattermapbox": [
           {
            "marker": {
             "colorbar": {
              "outlinewidth": 0,
              "ticks": ""
             }
            },
            "type": "scattermapbox"
           }
          ],
          "scatterpolar": [
           {
            "marker": {
             "colorbar": {
              "outlinewidth": 0,
              "ticks": ""
             }
            },
            "type": "scatterpolar"
           }
          ],
          "scatterpolargl": [
           {
            "marker": {
             "colorbar": {
              "outlinewidth": 0,
              "ticks": ""
             }
            },
            "type": "scatterpolargl"
           }
          ],
          "scatterternary": [
           {
            "marker": {
             "colorbar": {
              "outlinewidth": 0,
              "ticks": ""
             }
            },
            "type": "scatterternary"
           }
          ],
          "surface": [
           {
            "colorbar": {
             "outlinewidth": 0,
             "ticks": ""
            },
            "type": "surface"
           }
          ],
          "table": [
           {
            "cells": {
             "fill": {
              "color": "#EBF0F8"
             },
             "line": {
              "color": "white"
             }
            },
            "header": {
             "fill": {
              "color": "#C8D4E3"
             },
             "line": {
              "color": "white"
             }
            },
            "type": "table"
           }
          ]
         },
         "layout": {
          "annotationdefaults": {
           "arrowcolor": "#506784",
           "arrowhead": 0,
           "arrowwidth": 1
          },
          "colorscale": {
           "diverging": [
            [
             0,
             "#8e0152"
            ],
            [
             0.1,
             "#c51b7d"
            ],
            [
             0.2,
             "#de77ae"
            ],
            [
             0.3,
             "#f1b6da"
            ],
            [
             0.4,
             "#fde0ef"
            ],
            [
             0.5,
             "#f7f7f7"
            ],
            [
             0.6,
             "#e6f5d0"
            ],
            [
             0.7,
             "#b8e186"
            ],
            [
             0.8,
             "#7fbc41"
            ],
            [
             0.9,
             "#4d9221"
            ],
            [
             1,
             "#276419"
            ]
           ],
           "sequential": [
            [
             0,
             "#0508b8"
            ],
            [
             0.0893854748603352,
             "#1910d8"
            ],
            [
             0.1787709497206704,
             "#3c19f0"
            ],
            [
             0.2681564245810056,
             "#6b1cfb"
            ],
            [
             0.3575418994413408,
             "#981cfd"
            ],
            [
             0.44692737430167595,
             "#bf1cfd"
            ],
            [
             0.5363128491620112,
             "#dd2bfd"
            ],
            [
             0.6256983240223464,
             "#f246fe"
            ],
            [
             0.7150837988826816,
             "#fc67fd"
            ],
            [
             0.8044692737430168,
             "#fe88fc"
            ],
            [
             0.8938547486033519,
             "#fea5fd"
            ],
            [
             0.9832402234636871,
             "#febefe"
            ],
            [
             1,
             "#fec3fe"
            ]
           ],
           "sequentialminus": [
            [
             0,
             "#0508b8"
            ],
            [
             0.0893854748603352,
             "#1910d8"
            ],
            [
             0.1787709497206704,
             "#3c19f0"
            ],
            [
             0.2681564245810056,
             "#6b1cfb"
            ],
            [
             0.3575418994413408,
             "#981cfd"
            ],
            [
             0.44692737430167595,
             "#bf1cfd"
            ],
            [
             0.5363128491620112,
             "#dd2bfd"
            ],
            [
             0.6256983240223464,
             "#f246fe"
            ],
            [
             0.7150837988826816,
             "#fc67fd"
            ],
            [
             0.8044692737430168,
             "#fe88fc"
            ],
            [
             0.8938547486033519,
             "#fea5fd"
            ],
            [
             0.9832402234636871,
             "#febefe"
            ],
            [
             1,
             "#fec3fe"
            ]
           ]
          },
          "colorway": [
           "#636efa",
           "#EF553B",
           "#00cc96",
           "#ab63fa",
           "#19d3f3",
           "#e763fa",
           "#FECB52",
           "#FFA15A",
           "#FF6692",
           "#B6E880"
          ],
          "font": {
           "color": "#2a3f5f"
          },
          "geo": {
           "bgcolor": "white",
           "lakecolor": "white",
           "landcolor": "#E5ECF6",
           "showlakes": true,
           "showland": true,
           "subunitcolor": "white"
          },
          "hoverlabel": {
           "align": "left"
          },
          "hovermode": "closest",
          "mapbox": {
           "style": "light"
          },
          "paper_bgcolor": "white",
          "plot_bgcolor": "#E5ECF6",
          "polar": {
           "angularaxis": {
            "gridcolor": "white",
            "linecolor": "white",
            "ticks": ""
           },
           "bgcolor": "#E5ECF6",
           "radialaxis": {
            "gridcolor": "white",
            "linecolor": "white",
            "ticks": ""
           }
          },
          "scene": {
           "xaxis": {
            "backgroundcolor": "#E5ECF6",
            "gridcolor": "white",
            "gridwidth": 2,
            "linecolor": "white",
            "showbackground": true,
            "ticks": "",
            "zerolinecolor": "white"
           },
           "yaxis": {
            "backgroundcolor": "#E5ECF6",
            "gridcolor": "white",
            "gridwidth": 2,
            "linecolor": "white",
            "showbackground": true,
            "ticks": "",
            "zerolinecolor": "white"
           },
           "zaxis": {
            "backgroundcolor": "#E5ECF6",
            "gridcolor": "white",
            "gridwidth": 2,
            "linecolor": "white",
            "showbackground": true,
            "ticks": "",
            "zerolinecolor": "white"
           }
          },
          "shapedefaults": {
           "fillcolor": "#506784",
           "line": {
            "width": 0
           },
           "opacity": 0.4
          },
          "ternary": {
           "aaxis": {
            "gridcolor": "white",
            "linecolor": "white",
            "ticks": ""
           },
           "baxis": {
            "gridcolor": "white",
            "linecolor": "white",
            "ticks": ""
           },
           "bgcolor": "#E5ECF6",
           "caxis": {
            "gridcolor": "white",
            "linecolor": "white",
            "ticks": ""
           }
          },
          "title": {
           "x": 0.05
          },
          "xaxis": {
           "automargin": true,
           "gridcolor": "white",
           "linecolor": "white",
           "ticks": "",
           "zerolinecolor": "white",
           "zerolinewidth": 2
          },
          "yaxis": {
           "automargin": true,
           "gridcolor": "white",
           "linecolor": "white",
           "ticks": "",
           "zerolinecolor": "white",
           "zerolinewidth": 2
          }
         }
        },
        "xaxis": {
         "categoryarray": [
          "ChrisGayle",
          " Brendon McCullum",
          " AB de Villiers",
          " Chris Gayle",
          " Rishabh Pant",
          " Murali Vijay",
          " David Warner",
          " Virender Sehwag"
         ],
         "categoryorder": "array",
         "title": {
          "text": "PLAYER"
         }
        },
        "yaxis": {
         "title": {
          "text": "HS"
         }
        }
       }
      },
      "text/html": [
       "<div>\n",
       "        \n",
       "        \n",
       "            <div id=\"941f94f4-5fad-4131-a49c-32628745906b\" class=\"plotly-graph-div\" style=\"height:600px; width:100%;\"></div>\n",
       "            <script type=\"text/javascript\">\n",
       "                require([\"plotly\"], function(Plotly) {\n",
       "                    window.PLOTLYENV=window.PLOTLYENV || {};\n",
       "                    window.PLOTLYENV.BASE_URL='https://plot.ly';\n",
       "                    \n",
       "                if (document.getElementById(\"941f94f4-5fad-4131-a49c-32628745906b\")) {\n",
       "                    Plotly.newPlot(\n",
       "                        '941f94f4-5fad-4131-a49c-32628745906b',\n",
       "                        [{\"hoverlabel\": {\"namelength\": 0}, \"hovertemplate\": \"PLAYER=%{x}<br>HS=%{marker.size}\", \"legendgroup\": \"PLAYER=ChrisGayle\", \"marker\": {\"color\": \"#636efa\", \"size\": [175], \"sizemode\": \"area\", \"sizeref\": 0.0175, \"symbol\": \"circle\"}, \"mode\": \"markers\", \"name\": \"PLAYER=ChrisGayle\", \"showlegend\": true, \"type\": \"scatter\", \"uid\": \"c0e5e8c7-3315-4cdb-b300-7db9d3295a6a\", \"x\": [\"ChrisGayle\"], \"xaxis\": \"x\", \"y\": [175], \"yaxis\": \"y\"}, {\"hoverlabel\": {\"namelength\": 0}, \"hovertemplate\": \"PLAYER=%{x}<br>HS=%{marker.size}\", \"legendgroup\": \"PLAYER=\\u00a0Brendon\\u00a0McCullum\", \"marker\": {\"color\": \"#EF553B\", \"size\": [158], \"sizemode\": \"area\", \"sizeref\": 0.0175, \"symbol\": \"circle\"}, \"mode\": \"markers\", \"name\": \"PLAYER=\\u00a0Brendon\\u00a0McCullum\", \"showlegend\": true, \"type\": \"scatter\", \"uid\": \"eda0bb69-25cd-4583-a2a2-f562eeffca70\", \"x\": [\"\\u00a0Brendon\\u00a0McCullum\"], \"xaxis\": \"x\", \"y\": [158], \"yaxis\": \"y\"}, {\"hoverlabel\": {\"namelength\": 0}, \"hovertemplate\": \"PLAYER=%{x}<br>HS=%{marker.size}\", \"legendgroup\": \"PLAYER=\\u00a0AB\\u00a0de Villiers\", \"marker\": {\"color\": \"#00cc96\", \"size\": [133, 129], \"sizemode\": \"area\", \"sizeref\": 0.0175, \"symbol\": \"circle\"}, \"mode\": \"markers\", \"name\": \"PLAYER=\\u00a0AB\\u00a0de Villiers\", \"showlegend\": true, \"type\": \"scatter\", \"uid\": \"90bed609-e14b-4b23-9931-2d0e4044d253\", \"x\": [\"\\u00a0AB\\u00a0de Villiers\", \"\\u00a0AB\\u00a0de Villiers\"], \"xaxis\": \"x\", \"y\": [133, 129], \"yaxis\": \"y\"}, {\"hoverlabel\": {\"namelength\": 0}, \"hovertemplate\": \"PLAYER=%{x}<br>HS=%{marker.size}\", \"legendgroup\": \"PLAYER=\\u00a0Chris\\u00a0Gayle\", \"marker\": {\"color\": \"#ab63fa\", \"size\": [128], \"sizemode\": \"area\", \"sizeref\": 0.0175, \"symbol\": \"circle\"}, \"mode\": \"markers\", \"name\": \"PLAYER=\\u00a0Chris\\u00a0Gayle\", \"showlegend\": true, \"type\": \"scatter\", \"uid\": \"0d2b844d-84e8-4bb7-99eb-f5e751eaa936\", \"x\": [\"\\u00a0Chris\\u00a0Gayle\"], \"xaxis\": \"x\", \"y\": [128], \"yaxis\": \"y\"}, {\"hoverlabel\": {\"namelength\": 0}, \"hovertemplate\": \"PLAYER=%{x}<br>HS=%{marker.size}\", \"legendgroup\": \"PLAYER=\\u00a0Rishabh\\u00a0Pant\", \"marker\": {\"color\": \"#19d3f3\", \"size\": [128], \"sizemode\": \"area\", \"sizeref\": 0.0175, \"symbol\": \"circle\"}, \"mode\": \"markers\", \"name\": \"PLAYER=\\u00a0Rishabh\\u00a0Pant\", \"showlegend\": true, \"type\": \"scatter\", \"uid\": \"ea6710b1-6aeb-48b7-96bc-2c5a39a43e4f\", \"x\": [\"\\u00a0Rishabh\\u00a0Pant\"], \"xaxis\": \"x\", \"y\": [128], \"yaxis\": \"y\"}, {\"hoverlabel\": {\"namelength\": 0}, \"hovertemplate\": \"PLAYER=%{x}<br>HS=%{marker.size}\", \"legendgroup\": \"PLAYER=\\u00a0Murali\\u00a0Vijay\", \"marker\": {\"color\": \"#e763fa\", \"size\": [127], \"sizemode\": \"area\", \"sizeref\": 0.0175, \"symbol\": \"circle\"}, \"mode\": \"markers\", \"name\": \"PLAYER=\\u00a0Murali\\u00a0Vijay\", \"showlegend\": true, \"type\": \"scatter\", \"uid\": \"cc2eeebf-61a3-45ef-87de-5daf6d946605\", \"x\": [\"\\u00a0Murali\\u00a0Vijay\"], \"xaxis\": \"x\", \"y\": [127], \"yaxis\": \"y\"}, {\"hoverlabel\": {\"namelength\": 0}, \"hovertemplate\": \"PLAYER=%{x}<br>HS=%{marker.size}\", \"legendgroup\": \"PLAYER=\\u00a0David\\u00a0Warner\", \"marker\": {\"color\": \"#FECB52\", \"size\": [126], \"sizemode\": \"area\", \"sizeref\": 0.0175, \"symbol\": \"circle\"}, \"mode\": \"markers\", \"name\": \"PLAYER=\\u00a0David\\u00a0Warner\", \"showlegend\": true, \"type\": \"scatter\", \"uid\": \"7b0b7377-2e41-4bf7-9e3c-6a6b73abefbf\", \"x\": [\"\\u00a0David\\u00a0Warner\"], \"xaxis\": \"x\", \"y\": [126], \"yaxis\": \"y\"}, {\"hoverlabel\": {\"namelength\": 0}, \"hovertemplate\": \"PLAYER=%{x}<br>HS=%{marker.size}\", \"legendgroup\": \"PLAYER=\\u00a0Virender\\u00a0Sehwag\", \"marker\": {\"color\": \"#FFA15A\", \"size\": [122], \"sizemode\": \"area\", \"sizeref\": 0.0175, \"symbol\": \"circle\"}, \"mode\": \"markers\", \"name\": \"PLAYER=\\u00a0Virender\\u00a0Sehwag\", \"showlegend\": true, \"type\": \"scatter\", \"uid\": \"2f2b14dc-1c70-40ae-81bc-adf19f2122cb\", \"x\": [\"\\u00a0Virender\\u00a0Sehwag\"], \"xaxis\": \"x\", \"y\": [122], \"yaxis\": \"y\"}],\n",
       "                        {\"grid\": {\"xaxes\": [\"x\"], \"xgap\": 0.1, \"xside\": \"bottom\", \"yaxes\": [\"y\"], \"ygap\": 0.1, \"yside\": \"left\"}, \"height\": 600, \"legend\": {\"itemsizing\": \"constant\", \"tracegroupgap\": 0}, \"margin\": {\"t\": 60}, \"template\": {\"data\": {\"bar\": [{\"marker\": {\"line\": {\"color\": \"#E5ECF6\", \"width\": 0.5}}, \"type\": \"bar\"}], \"barpolar\": [{\"marker\": {\"line\": {\"color\": \"#E5ECF6\", \"width\": 0.5}}, \"type\": \"barpolar\"}], \"carpet\": [{\"aaxis\": {\"endlinecolor\": \"#2a3f5f\", \"gridcolor\": \"white\", \"linecolor\": \"white\", \"minorgridcolor\": \"white\", \"startlinecolor\": \"#2a3f5f\"}, \"baxis\": {\"endlinecolor\": \"#2a3f5f\", \"gridcolor\": \"white\", \"linecolor\": \"white\", \"minorgridcolor\": \"white\", \"startlinecolor\": \"#2a3f5f\"}, \"type\": \"carpet\"}], \"choropleth\": [{\"colorbar\": {\"outlinewidth\": 0, \"ticks\": \"\"}, \"type\": \"choropleth\"}], \"contour\": [{\"colorbar\": {\"outlinewidth\": 0, \"ticks\": \"\"}, \"colorscale\": [[0.0, \"#0508b8\"], [0.0893854748603352, \"#1910d8\"], [0.1787709497206704, \"#3c19f0\"], [0.2681564245810056, \"#6b1cfb\"], [0.3575418994413408, \"#981cfd\"], [0.44692737430167595, \"#bf1cfd\"], [0.5363128491620112, \"#dd2bfd\"], [0.6256983240223464, \"#f246fe\"], [0.7150837988826816, \"#fc67fd\"], [0.8044692737430168, \"#fe88fc\"], [0.8938547486033519, \"#fea5fd\"], [0.9832402234636871, \"#febefe\"], [1.0, \"#fec3fe\"]], \"type\": \"contour\"}], \"contourcarpet\": [{\"colorbar\": {\"outlinewidth\": 0, \"ticks\": \"\"}, \"type\": \"contourcarpet\"}], \"heatmap\": [{\"colorbar\": {\"outlinewidth\": 0, \"ticks\": \"\"}, \"colorscale\": [[0.0, \"#0508b8\"], [0.0893854748603352, \"#1910d8\"], [0.1787709497206704, \"#3c19f0\"], [0.2681564245810056, \"#6b1cfb\"], [0.3575418994413408, \"#981cfd\"], [0.44692737430167595, \"#bf1cfd\"], [0.5363128491620112, \"#dd2bfd\"], [0.6256983240223464, \"#f246fe\"], [0.7150837988826816, \"#fc67fd\"], [0.8044692737430168, \"#fe88fc\"], [0.8938547486033519, \"#fea5fd\"], [0.9832402234636871, \"#febefe\"], [1.0, \"#fec3fe\"]], \"type\": \"heatmap\"}], \"heatmapgl\": [{\"colorbar\": {\"outlinewidth\": 0, \"ticks\": \"\"}, \"type\": \"heatmapgl\"}], \"histogram\": [{\"marker\": {\"colorbar\": {\"outlinewidth\": 0, \"ticks\": \"\"}}, \"type\": \"histogram\"}], \"histogram2d\": [{\"colorbar\": {\"outlinewidth\": 0, \"ticks\": \"\"}, \"colorscale\": [[0.0, \"#0508b8\"], [0.0893854748603352, \"#1910d8\"], [0.1787709497206704, \"#3c19f0\"], [0.2681564245810056, \"#6b1cfb\"], [0.3575418994413408, \"#981cfd\"], [0.44692737430167595, \"#bf1cfd\"], [0.5363128491620112, \"#dd2bfd\"], [0.6256983240223464, \"#f246fe\"], [0.7150837988826816, \"#fc67fd\"], [0.8044692737430168, \"#fe88fc\"], [0.8938547486033519, \"#fea5fd\"], [0.9832402234636871, \"#febefe\"], [1.0, \"#fec3fe\"]], \"type\": \"histogram2d\"}], \"histogram2dcontour\": [{\"colorbar\": {\"outlinewidth\": 0, \"ticks\": \"\"}, \"colorscale\": [[0.0, \"#0508b8\"], [0.0893854748603352, \"#1910d8\"], [0.1787709497206704, \"#3c19f0\"], [0.2681564245810056, \"#6b1cfb\"], [0.3575418994413408, \"#981cfd\"], [0.44692737430167595, \"#bf1cfd\"], [0.5363128491620112, \"#dd2bfd\"], [0.6256983240223464, \"#f246fe\"], [0.7150837988826816, \"#fc67fd\"], [0.8044692737430168, \"#fe88fc\"], [0.8938547486033519, \"#fea5fd\"], [0.9832402234636871, \"#febefe\"], [1.0, \"#fec3fe\"]], \"type\": \"histogram2dcontour\"}], \"mesh3d\": [{\"colorbar\": {\"outlinewidth\": 0, \"ticks\": \"\"}, \"type\": \"mesh3d\"}], \"parcoords\": [{\"line\": {\"colorbar\": {\"outlinewidth\": 0, \"ticks\": \"\"}}, \"type\": \"parcoords\"}], \"scatter\": [{\"marker\": {\"colorbar\": {\"outlinewidth\": 0, \"ticks\": \"\"}}, \"type\": \"scatter\"}], \"scatter3d\": [{\"marker\": {\"colorbar\": {\"outlinewidth\": 0, \"ticks\": \"\"}}, \"type\": \"scatter3d\"}], \"scattercarpet\": [{\"marker\": {\"colorbar\": {\"outlinewidth\": 0, \"ticks\": \"\"}}, \"type\": \"scattercarpet\"}], \"scattergeo\": [{\"marker\": {\"colorbar\": {\"outlinewidth\": 0, \"ticks\": \"\"}}, \"type\": \"scattergeo\"}], \"scattergl\": [{\"marker\": {\"colorbar\": {\"outlinewidth\": 0, \"ticks\": \"\"}}, \"type\": \"scattergl\"}], \"scattermapbox\": [{\"marker\": {\"colorbar\": {\"outlinewidth\": 0, \"ticks\": \"\"}}, \"type\": \"scattermapbox\"}], \"scatterpolar\": [{\"marker\": {\"colorbar\": {\"outlinewidth\": 0, \"ticks\": \"\"}}, \"type\": \"scatterpolar\"}], \"scatterpolargl\": [{\"marker\": {\"colorbar\": {\"outlinewidth\": 0, \"ticks\": \"\"}}, \"type\": \"scatterpolargl\"}], \"scatterternary\": [{\"marker\": {\"colorbar\": {\"outlinewidth\": 0, \"ticks\": \"\"}}, \"type\": \"scatterternary\"}], \"surface\": [{\"colorbar\": {\"outlinewidth\": 0, \"ticks\": \"\"}, \"type\": \"surface\"}], \"table\": [{\"cells\": {\"fill\": {\"color\": \"#EBF0F8\"}, \"line\": {\"color\": \"white\"}}, \"header\": {\"fill\": {\"color\": \"#C8D4E3\"}, \"line\": {\"color\": \"white\"}}, \"type\": \"table\"}]}, \"layout\": {\"annotationdefaults\": {\"arrowcolor\": \"#506784\", \"arrowhead\": 0, \"arrowwidth\": 1}, \"colorscale\": {\"diverging\": [[0, \"#8e0152\"], [0.1, \"#c51b7d\"], [0.2, \"#de77ae\"], [0.3, \"#f1b6da\"], [0.4, \"#fde0ef\"], [0.5, \"#f7f7f7\"], [0.6, \"#e6f5d0\"], [0.7, \"#b8e186\"], [0.8, \"#7fbc41\"], [0.9, \"#4d9221\"], [1, \"#276419\"]], \"sequential\": [[0.0, \"#0508b8\"], [0.0893854748603352, \"#1910d8\"], [0.1787709497206704, \"#3c19f0\"], [0.2681564245810056, \"#6b1cfb\"], [0.3575418994413408, \"#981cfd\"], [0.44692737430167595, \"#bf1cfd\"], [0.5363128491620112, \"#dd2bfd\"], [0.6256983240223464, \"#f246fe\"], [0.7150837988826816, \"#fc67fd\"], [0.8044692737430168, \"#fe88fc\"], [0.8938547486033519, \"#fea5fd\"], [0.9832402234636871, \"#febefe\"], [1.0, \"#fec3fe\"]], \"sequentialminus\": [[0.0, \"#0508b8\"], [0.0893854748603352, \"#1910d8\"], [0.1787709497206704, \"#3c19f0\"], [0.2681564245810056, \"#6b1cfb\"], [0.3575418994413408, \"#981cfd\"], [0.44692737430167595, \"#bf1cfd\"], [0.5363128491620112, \"#dd2bfd\"], [0.6256983240223464, \"#f246fe\"], [0.7150837988826816, \"#fc67fd\"], [0.8044692737430168, \"#fe88fc\"], [0.8938547486033519, \"#fea5fd\"], [0.9832402234636871, \"#febefe\"], [1.0, \"#fec3fe\"]]}, \"colorway\": [\"#636efa\", \"#EF553B\", \"#00cc96\", \"#ab63fa\", \"#19d3f3\", \"#e763fa\", \"#FECB52\", \"#FFA15A\", \"#FF6692\", \"#B6E880\"], \"font\": {\"color\": \"#2a3f5f\"}, \"geo\": {\"bgcolor\": \"white\", \"lakecolor\": \"white\", \"landcolor\": \"#E5ECF6\", \"showlakes\": true, \"showland\": true, \"subunitcolor\": \"white\"}, \"hoverlabel\": {\"align\": \"left\"}, \"hovermode\": \"closest\", \"mapbox\": {\"style\": \"light\"}, \"paper_bgcolor\": \"white\", \"plot_bgcolor\": \"#E5ECF6\", \"polar\": {\"angularaxis\": {\"gridcolor\": \"white\", \"linecolor\": \"white\", \"ticks\": \"\"}, \"bgcolor\": \"#E5ECF6\", \"radialaxis\": {\"gridcolor\": \"white\", \"linecolor\": \"white\", \"ticks\": \"\"}}, \"scene\": {\"xaxis\": {\"backgroundcolor\": \"#E5ECF6\", \"gridcolor\": \"white\", \"gridwidth\": 2, \"linecolor\": \"white\", \"showbackground\": true, \"ticks\": \"\", \"zerolinecolor\": \"white\"}, \"yaxis\": {\"backgroundcolor\": \"#E5ECF6\", \"gridcolor\": \"white\", \"gridwidth\": 2, \"linecolor\": \"white\", \"showbackground\": true, \"ticks\": \"\", \"zerolinecolor\": \"white\"}, \"zaxis\": {\"backgroundcolor\": \"#E5ECF6\", \"gridcolor\": \"white\", \"gridwidth\": 2, \"linecolor\": \"white\", \"showbackground\": true, \"ticks\": \"\", \"zerolinecolor\": \"white\"}}, \"shapedefaults\": {\"fillcolor\": \"#506784\", \"line\": {\"width\": 0}, \"opacity\": 0.4}, \"ternary\": {\"aaxis\": {\"gridcolor\": \"white\", \"linecolor\": \"white\", \"ticks\": \"\"}, \"baxis\": {\"gridcolor\": \"white\", \"linecolor\": \"white\", \"ticks\": \"\"}, \"bgcolor\": \"#E5ECF6\", \"caxis\": {\"gridcolor\": \"white\", \"linecolor\": \"white\", \"ticks\": \"\"}}, \"title\": {\"x\": 0.05}, \"xaxis\": {\"automargin\": true, \"gridcolor\": \"white\", \"linecolor\": \"white\", \"ticks\": \"\", \"zerolinecolor\": \"white\", \"zerolinewidth\": 2}, \"yaxis\": {\"automargin\": true, \"gridcolor\": \"white\", \"linecolor\": \"white\", \"ticks\": \"\", \"zerolinecolor\": \"white\", \"zerolinewidth\": 2}}}, \"xaxis\": {\"categoryarray\": [\"ChrisGayle\", \"\\u00a0Brendon\\u00a0McCullum\", \"\\u00a0AB\\u00a0de Villiers\", \"\\u00a0Chris\\u00a0Gayle\", \"\\u00a0Rishabh\\u00a0Pant\", \"\\u00a0Murali\\u00a0Vijay\", \"\\u00a0David\\u00a0Warner\", \"\\u00a0Virender\\u00a0Sehwag\"], \"categoryorder\": \"array\", \"title\": {\"text\": \"PLAYER\"}}, \"yaxis\": {\"title\": {\"text\": \"HS\"}}},\n",
       "                        {\"showLink\": false, \"linkText\": \"Export to plot.ly\", \"plotlyServerURL\": \"https://plot.ly\", \"responsive\": true}\n",
       "                    ).then(function(){\n",
       "                            \n",
       "var gd = document.getElementById('941f94f4-5fad-4131-a49c-32628745906b');\n",
       "var x = new MutationObserver(function (mutations, observer) {{\n",
       "        var display = window.getComputedStyle(gd).display;\n",
       "        if (!display || display === 'none') {{\n",
       "            console.log([gd, 'removed!']);\n",
       "            Plotly.purge(gd);\n",
       "            observer.disconnect();\n",
       "        }}\n",
       "}});\n",
       "\n",
       "// Listen for the removal of the full notebook cells\n",
       "var notebookContainer = gd.closest('#notebook-container');\n",
       "if (notebookContainer) {{\n",
       "    x.observe(notebookContainer, {childList: true});\n",
       "}}\n",
       "\n",
       "// Listen for the clearing of the current output cell\n",
       "var outputEl = gd.closest('.output');\n",
       "if (outputEl) {{\n",
       "    x.observe(outputEl, {childList: true});\n",
       "}}\n",
       "\n",
       "                        })\n",
       "                };\n",
       "                });\n",
       "            </script>\n",
       "        </div>"
      ]
     },
     "metadata": {},
     "output_type": "display_data"
    }
   ],
   "source": [
    "px.scatter(high_score_in,x=\"PLAYER\",y=\"HS\",color='PLAYER', size=\"HS\",size_max=100)\n"
   ]
  },
  {
   "cell_type": "code",
   "execution_count": 258,
   "metadata": {},
   "outputs": [
    {
     "data": {
      "application/vnd.plotly.v1+json": {
       "config": {
        "linkText": "Export to plot.ly",
        "plotlyServerURL": "https://plot.ly",
        "showLink": false
       },
       "data": [
        {
         "hoverlabel": {
          "namelength": 0
         },
         "hovertemplate": "Country=SL<br>Player=%{x}<br>Wkts=%{marker.size}",
         "legendgroup": "Country=SL",
         "marker": {
          "color": "#636efa",
          "size": [
           170
          ],
          "sizemode": "area",
          "sizeref": 0.00425,
          "symbol": "circle"
         },
         "mode": "markers",
         "name": "Country=SL",
         "showlegend": true,
         "type": "scatter",
         "uid": "1d9b030a-3e94-44f4-8ee9-21d176888298",
         "x": [
          "LasithMalinga"
         ],
         "xaxis": "x",
         "y": [
          170
         ],
         "yaxis": "y"
        },
        {
         "hoverlabel": {
          "namelength": 0
         },
         "hovertemplate": "Country=Ind<br>Player=%{x}<br>Wkts=%{marker.size}",
         "legendgroup": "Country=Ind",
         "marker": {
          "color": "#EF553B",
          "size": [
           157,
           150,
           150,
           133,
           125,
           119,
           108
          ],
          "sizemode": "area",
          "sizeref": 0.00425,
          "symbol": "circle"
         },
         "mode": "markers",
         "name": "Country=Ind",
         "showlegend": true,
         "type": "scatter",
         "uid": "771e0850-cf03-4b7e-81e1-c9f12940112b",
         "x": [
          " Amit Mishra",
          " Harbhajan Singh",
          " Piyush Chawla",
          " Bhuvneshwar Kumar",
          " Ravichandran Ashwin",
          " Umesh Yadav",
          " Ravindra Jadeja"
         ],
         "xaxis": "x",
         "y": [
          157,
          150,
          150,
          133,
          125,
          119,
          108
         ],
         "yaxis": "y"
        },
        {
         "hoverlabel": {
          "namelength": 0
         },
         "hovertemplate": "Country=WI<br>Player=%{x}<br>Wkts=%{marker.size}",
         "legendgroup": "Country=WI",
         "marker": {
          "color": "#00cc96",
          "size": [
           147,
           122
          ],
          "sizemode": "area",
          "sizeref": 0.00425,
          "symbol": "circle"
         },
         "mode": "markers",
         "name": "Country=WI",
         "showlegend": true,
         "type": "scatter",
         "uid": "67454994-35bb-4ece-8786-674f28ef188d",
         "x": [
          " Dwayne Bravo",
          " Sunil Narine"
         ],
         "xaxis": "x",
         "y": [
          147,
          122
         ],
         "yaxis": "y"
        }
       ],
       "layout": {
        "grid": {
         "xaxes": [
          "x"
         ],
         "xgap": 0.1,
         "xside": "bottom",
         "yaxes": [
          "y"
         ],
         "ygap": 0.1,
         "yside": "left"
        },
        "height": 600,
        "legend": {
         "itemsizing": "constant",
         "tracegroupgap": 0
        },
        "margin": {
         "t": 60
        },
        "template": {
         "data": {
          "bar": [
           {
            "marker": {
             "line": {
              "color": "#E5ECF6",
              "width": 0.5
             }
            },
            "type": "bar"
           }
          ],
          "barpolar": [
           {
            "marker": {
             "line": {
              "color": "#E5ECF6",
              "width": 0.5
             }
            },
            "type": "barpolar"
           }
          ],
          "carpet": [
           {
            "aaxis": {
             "endlinecolor": "#2a3f5f",
             "gridcolor": "white",
             "linecolor": "white",
             "minorgridcolor": "white",
             "startlinecolor": "#2a3f5f"
            },
            "baxis": {
             "endlinecolor": "#2a3f5f",
             "gridcolor": "white",
             "linecolor": "white",
             "minorgridcolor": "white",
             "startlinecolor": "#2a3f5f"
            },
            "type": "carpet"
           }
          ],
          "choropleth": [
           {
            "colorbar": {
             "outlinewidth": 0,
             "ticks": ""
            },
            "type": "choropleth"
           }
          ],
          "contour": [
           {
            "colorbar": {
             "outlinewidth": 0,
             "ticks": ""
            },
            "colorscale": [
             [
              0,
              "#0508b8"
             ],
             [
              0.0893854748603352,
              "#1910d8"
             ],
             [
              0.1787709497206704,
              "#3c19f0"
             ],
             [
              0.2681564245810056,
              "#6b1cfb"
             ],
             [
              0.3575418994413408,
              "#981cfd"
             ],
             [
              0.44692737430167595,
              "#bf1cfd"
             ],
             [
              0.5363128491620112,
              "#dd2bfd"
             ],
             [
              0.6256983240223464,
              "#f246fe"
             ],
             [
              0.7150837988826816,
              "#fc67fd"
             ],
             [
              0.8044692737430168,
              "#fe88fc"
             ],
             [
              0.8938547486033519,
              "#fea5fd"
             ],
             [
              0.9832402234636871,
              "#febefe"
             ],
             [
              1,
              "#fec3fe"
             ]
            ],
            "type": "contour"
           }
          ],
          "contourcarpet": [
           {
            "colorbar": {
             "outlinewidth": 0,
             "ticks": ""
            },
            "type": "contourcarpet"
           }
          ],
          "heatmap": [
           {
            "colorbar": {
             "outlinewidth": 0,
             "ticks": ""
            },
            "colorscale": [
             [
              0,
              "#0508b8"
             ],
             [
              0.0893854748603352,
              "#1910d8"
             ],
             [
              0.1787709497206704,
              "#3c19f0"
             ],
             [
              0.2681564245810056,
              "#6b1cfb"
             ],
             [
              0.3575418994413408,
              "#981cfd"
             ],
             [
              0.44692737430167595,
              "#bf1cfd"
             ],
             [
              0.5363128491620112,
              "#dd2bfd"
             ],
             [
              0.6256983240223464,
              "#f246fe"
             ],
             [
              0.7150837988826816,
              "#fc67fd"
             ],
             [
              0.8044692737430168,
              "#fe88fc"
             ],
             [
              0.8938547486033519,
              "#fea5fd"
             ],
             [
              0.9832402234636871,
              "#febefe"
             ],
             [
              1,
              "#fec3fe"
             ]
            ],
            "type": "heatmap"
           }
          ],
          "heatmapgl": [
           {
            "colorbar": {
             "outlinewidth": 0,
             "ticks": ""
            },
            "type": "heatmapgl"
           }
          ],
          "histogram": [
           {
            "marker": {
             "colorbar": {
              "outlinewidth": 0,
              "ticks": ""
             }
            },
            "type": "histogram"
           }
          ],
          "histogram2d": [
           {
            "colorbar": {
             "outlinewidth": 0,
             "ticks": ""
            },
            "colorscale": [
             [
              0,
              "#0508b8"
             ],
             [
              0.0893854748603352,
              "#1910d8"
             ],
             [
              0.1787709497206704,
              "#3c19f0"
             ],
             [
              0.2681564245810056,
              "#6b1cfb"
             ],
             [
              0.3575418994413408,
              "#981cfd"
             ],
             [
              0.44692737430167595,
              "#bf1cfd"
             ],
             [
              0.5363128491620112,
              "#dd2bfd"
             ],
             [
              0.6256983240223464,
              "#f246fe"
             ],
             [
              0.7150837988826816,
              "#fc67fd"
             ],
             [
              0.8044692737430168,
              "#fe88fc"
             ],
             [
              0.8938547486033519,
              "#fea5fd"
             ],
             [
              0.9832402234636871,
              "#febefe"
             ],
             [
              1,
              "#fec3fe"
             ]
            ],
            "type": "histogram2d"
           }
          ],
          "histogram2dcontour": [
           {
            "colorbar": {
             "outlinewidth": 0,
             "ticks": ""
            },
            "colorscale": [
             [
              0,
              "#0508b8"
             ],
             [
              0.0893854748603352,
              "#1910d8"
             ],
             [
              0.1787709497206704,
              "#3c19f0"
             ],
             [
              0.2681564245810056,
              "#6b1cfb"
             ],
             [
              0.3575418994413408,
              "#981cfd"
             ],
             [
              0.44692737430167595,
              "#bf1cfd"
             ],
             [
              0.5363128491620112,
              "#dd2bfd"
             ],
             [
              0.6256983240223464,
              "#f246fe"
             ],
             [
              0.7150837988826816,
              "#fc67fd"
             ],
             [
              0.8044692737430168,
              "#fe88fc"
             ],
             [
              0.8938547486033519,
              "#fea5fd"
             ],
             [
              0.9832402234636871,
              "#febefe"
             ],
             [
              1,
              "#fec3fe"
             ]
            ],
            "type": "histogram2dcontour"
           }
          ],
          "mesh3d": [
           {
            "colorbar": {
             "outlinewidth": 0,
             "ticks": ""
            },
            "type": "mesh3d"
           }
          ],
          "parcoords": [
           {
            "line": {
             "colorbar": {
              "outlinewidth": 0,
              "ticks": ""
             }
            },
            "type": "parcoords"
           }
          ],
          "scatter": [
           {
            "marker": {
             "colorbar": {
              "outlinewidth": 0,
              "ticks": ""
             }
            },
            "type": "scatter"
           }
          ],
          "scatter3d": [
           {
            "marker": {
             "colorbar": {
              "outlinewidth": 0,
              "ticks": ""
             }
            },
            "type": "scatter3d"
           }
          ],
          "scattercarpet": [
           {
            "marker": {
             "colorbar": {
              "outlinewidth": 0,
              "ticks": ""
             }
            },
            "type": "scattercarpet"
           }
          ],
          "scattergeo": [
           {
            "marker": {
             "colorbar": {
              "outlinewidth": 0,
              "ticks": ""
             }
            },
            "type": "scattergeo"
           }
          ],
          "scattergl": [
           {
            "marker": {
             "colorbar": {
              "outlinewidth": 0,
              "ticks": ""
             }
            },
            "type": "scattergl"
           }
          ],
          "scattermapbox": [
           {
            "marker": {
             "colorbar": {
              "outlinewidth": 0,
              "ticks": ""
             }
            },
            "type": "scattermapbox"
           }
          ],
          "scatterpolar": [
           {
            "marker": {
             "colorbar": {
              "outlinewidth": 0,
              "ticks": ""
             }
            },
            "type": "scatterpolar"
           }
          ],
          "scatterpolargl": [
           {
            "marker": {
             "colorbar": {
              "outlinewidth": 0,
              "ticks": ""
             }
            },
            "type": "scatterpolargl"
           }
          ],
          "scatterternary": [
           {
            "marker": {
             "colorbar": {
              "outlinewidth": 0,
              "ticks": ""
             }
            },
            "type": "scatterternary"
           }
          ],
          "surface": [
           {
            "colorbar": {
             "outlinewidth": 0,
             "ticks": ""
            },
            "type": "surface"
           }
          ],
          "table": [
           {
            "cells": {
             "fill": {
              "color": "#EBF0F8"
             },
             "line": {
              "color": "white"
             }
            },
            "header": {
             "fill": {
              "color": "#C8D4E3"
             },
             "line": {
              "color": "white"
             }
            },
            "type": "table"
           }
          ]
         },
         "layout": {
          "annotationdefaults": {
           "arrowcolor": "#506784",
           "arrowhead": 0,
           "arrowwidth": 1
          },
          "colorscale": {
           "diverging": [
            [
             0,
             "#8e0152"
            ],
            [
             0.1,
             "#c51b7d"
            ],
            [
             0.2,
             "#de77ae"
            ],
            [
             0.3,
             "#f1b6da"
            ],
            [
             0.4,
             "#fde0ef"
            ],
            [
             0.5,
             "#f7f7f7"
            ],
            [
             0.6,
             "#e6f5d0"
            ],
            [
             0.7,
             "#b8e186"
            ],
            [
             0.8,
             "#7fbc41"
            ],
            [
             0.9,
             "#4d9221"
            ],
            [
             1,
             "#276419"
            ]
           ],
           "sequential": [
            [
             0,
             "#0508b8"
            ],
            [
             0.0893854748603352,
             "#1910d8"
            ],
            [
             0.1787709497206704,
             "#3c19f0"
            ],
            [
             0.2681564245810056,
             "#6b1cfb"
            ],
            [
             0.3575418994413408,
             "#981cfd"
            ],
            [
             0.44692737430167595,
             "#bf1cfd"
            ],
            [
             0.5363128491620112,
             "#dd2bfd"
            ],
            [
             0.6256983240223464,
             "#f246fe"
            ],
            [
             0.7150837988826816,
             "#fc67fd"
            ],
            [
             0.8044692737430168,
             "#fe88fc"
            ],
            [
             0.8938547486033519,
             "#fea5fd"
            ],
            [
             0.9832402234636871,
             "#febefe"
            ],
            [
             1,
             "#fec3fe"
            ]
           ],
           "sequentialminus": [
            [
             0,
             "#0508b8"
            ],
            [
             0.0893854748603352,
             "#1910d8"
            ],
            [
             0.1787709497206704,
             "#3c19f0"
            ],
            [
             0.2681564245810056,
             "#6b1cfb"
            ],
            [
             0.3575418994413408,
             "#981cfd"
            ],
            [
             0.44692737430167595,
             "#bf1cfd"
            ],
            [
             0.5363128491620112,
             "#dd2bfd"
            ],
            [
             0.6256983240223464,
             "#f246fe"
            ],
            [
             0.7150837988826816,
             "#fc67fd"
            ],
            [
             0.8044692737430168,
             "#fe88fc"
            ],
            [
             0.8938547486033519,
             "#fea5fd"
            ],
            [
             0.9832402234636871,
             "#febefe"
            ],
            [
             1,
             "#fec3fe"
            ]
           ]
          },
          "colorway": [
           "#636efa",
           "#EF553B",
           "#00cc96",
           "#ab63fa",
           "#19d3f3",
           "#e763fa",
           "#FECB52",
           "#FFA15A",
           "#FF6692",
           "#B6E880"
          ],
          "font": {
           "color": "#2a3f5f"
          },
          "geo": {
           "bgcolor": "white",
           "lakecolor": "white",
           "landcolor": "#E5ECF6",
           "showlakes": true,
           "showland": true,
           "subunitcolor": "white"
          },
          "hoverlabel": {
           "align": "left"
          },
          "hovermode": "closest",
          "mapbox": {
           "style": "light"
          },
          "paper_bgcolor": "white",
          "plot_bgcolor": "#E5ECF6",
          "polar": {
           "angularaxis": {
            "gridcolor": "white",
            "linecolor": "white",
            "ticks": ""
           },
           "bgcolor": "#E5ECF6",
           "radialaxis": {
            "gridcolor": "white",
            "linecolor": "white",
            "ticks": ""
           }
          },
          "scene": {
           "xaxis": {
            "backgroundcolor": "#E5ECF6",
            "gridcolor": "white",
            "gridwidth": 2,
            "linecolor": "white",
            "showbackground": true,
            "ticks": "",
            "zerolinecolor": "white"
           },
           "yaxis": {
            "backgroundcolor": "#E5ECF6",
            "gridcolor": "white",
            "gridwidth": 2,
            "linecolor": "white",
            "showbackground": true,
            "ticks": "",
            "zerolinecolor": "white"
           },
           "zaxis": {
            "backgroundcolor": "#E5ECF6",
            "gridcolor": "white",
            "gridwidth": 2,
            "linecolor": "white",
            "showbackground": true,
            "ticks": "",
            "zerolinecolor": "white"
           }
          },
          "shapedefaults": {
           "fillcolor": "#506784",
           "line": {
            "width": 0
           },
           "opacity": 0.4
          },
          "ternary": {
           "aaxis": {
            "gridcolor": "white",
            "linecolor": "white",
            "ticks": ""
           },
           "baxis": {
            "gridcolor": "white",
            "linecolor": "white",
            "ticks": ""
           },
           "bgcolor": "#E5ECF6",
           "caxis": {
            "gridcolor": "white",
            "linecolor": "white",
            "ticks": ""
           }
          },
          "title": {
           "x": 0.05
          },
          "xaxis": {
           "automargin": true,
           "gridcolor": "white",
           "linecolor": "white",
           "ticks": "",
           "zerolinecolor": "white",
           "zerolinewidth": 2
          },
          "yaxis": {
           "automargin": true,
           "gridcolor": "white",
           "linecolor": "white",
           "ticks": "",
           "zerolinecolor": "white",
           "zerolinewidth": 2
          }
         }
        },
        "xaxis": {
         "title": {
          "text": "Player"
         }
        },
        "yaxis": {
         "title": {
          "text": "Wkts"
         }
        }
       }
      },
      "text/html": [
       "<div>\n",
       "        \n",
       "        \n",
       "            <div id=\"6fc4b401-c71d-48ec-8d2e-27058a7655ff\" class=\"plotly-graph-div\" style=\"height:600px; width:100%;\"></div>\n",
       "            <script type=\"text/javascript\">\n",
       "                require([\"plotly\"], function(Plotly) {\n",
       "                    window.PLOTLYENV=window.PLOTLYENV || {};\n",
       "                    window.PLOTLYENV.BASE_URL='https://plot.ly';\n",
       "                    \n",
       "                if (document.getElementById(\"6fc4b401-c71d-48ec-8d2e-27058a7655ff\")) {\n",
       "                    Plotly.newPlot(\n",
       "                        '6fc4b401-c71d-48ec-8d2e-27058a7655ff',\n",
       "                        [{\"hoverlabel\": {\"namelength\": 0}, \"hovertemplate\": \"Country=SL<br>Player=%{x}<br>Wkts=%{marker.size}\", \"legendgroup\": \"Country=SL\", \"marker\": {\"color\": \"#636efa\", \"size\": [170], \"sizemode\": \"area\", \"sizeref\": 0.00425, \"symbol\": \"circle\"}, \"mode\": \"markers\", \"name\": \"Country=SL\", \"showlegend\": true, \"type\": \"scatter\", \"uid\": \"1d9b030a-3e94-44f4-8ee9-21d176888298\", \"x\": [\"LasithMalinga\"], \"xaxis\": \"x\", \"y\": [170], \"yaxis\": \"y\"}, {\"hoverlabel\": {\"namelength\": 0}, \"hovertemplate\": \"Country=Ind<br>Player=%{x}<br>Wkts=%{marker.size}\", \"legendgroup\": \"Country=Ind\", \"marker\": {\"color\": \"#EF553B\", \"size\": [157, 150, 150, 133, 125, 119, 108], \"sizemode\": \"area\", \"sizeref\": 0.00425, \"symbol\": \"circle\"}, \"mode\": \"markers\", \"name\": \"Country=Ind\", \"showlegend\": true, \"type\": \"scatter\", \"uid\": \"771e0850-cf03-4b7e-81e1-c9f12940112b\", \"x\": [\"\\u00a0Amit\\u00a0Mishra\", \"\\u00a0Harbhajan\\u00a0Singh\", \"\\u00a0Piyush\\u00a0Chawla\", \"\\u00a0Bhuvneshwar\\u00a0Kumar\", \"\\u00a0Ravichandran\\u00a0Ashwin\", \"\\u00a0Umesh\\u00a0Yadav\", \"\\u00a0Ravindra\\u00a0Jadeja\"], \"xaxis\": \"x\", \"y\": [157, 150, 150, 133, 125, 119, 108], \"yaxis\": \"y\"}, {\"hoverlabel\": {\"namelength\": 0}, \"hovertemplate\": \"Country=WI<br>Player=%{x}<br>Wkts=%{marker.size}\", \"legendgroup\": \"Country=WI\", \"marker\": {\"color\": \"#00cc96\", \"size\": [147, 122], \"sizemode\": \"area\", \"sizeref\": 0.00425, \"symbol\": \"circle\"}, \"mode\": \"markers\", \"name\": \"Country=WI\", \"showlegend\": true, \"type\": \"scatter\", \"uid\": \"67454994-35bb-4ece-8786-674f28ef188d\", \"x\": [\"\\u00a0Dwayne\\u00a0Bravo\", \"\\u00a0Sunil\\u00a0Narine\"], \"xaxis\": \"x\", \"y\": [147, 122], \"yaxis\": \"y\"}],\n",
       "                        {\"grid\": {\"xaxes\": [\"x\"], \"xgap\": 0.1, \"xside\": \"bottom\", \"yaxes\": [\"y\"], \"ygap\": 0.1, \"yside\": \"left\"}, \"height\": 600, \"legend\": {\"itemsizing\": \"constant\", \"tracegroupgap\": 0}, \"margin\": {\"t\": 60}, \"template\": {\"data\": {\"bar\": [{\"marker\": {\"line\": {\"color\": \"#E5ECF6\", \"width\": 0.5}}, \"type\": \"bar\"}], \"barpolar\": [{\"marker\": {\"line\": {\"color\": \"#E5ECF6\", \"width\": 0.5}}, \"type\": \"barpolar\"}], \"carpet\": [{\"aaxis\": {\"endlinecolor\": \"#2a3f5f\", \"gridcolor\": \"white\", \"linecolor\": \"white\", \"minorgridcolor\": \"white\", \"startlinecolor\": \"#2a3f5f\"}, \"baxis\": {\"endlinecolor\": \"#2a3f5f\", \"gridcolor\": \"white\", \"linecolor\": \"white\", \"minorgridcolor\": \"white\", \"startlinecolor\": \"#2a3f5f\"}, \"type\": \"carpet\"}], \"choropleth\": [{\"colorbar\": {\"outlinewidth\": 0, \"ticks\": \"\"}, \"type\": \"choropleth\"}], \"contour\": [{\"colorbar\": {\"outlinewidth\": 0, \"ticks\": \"\"}, \"colorscale\": [[0.0, \"#0508b8\"], [0.0893854748603352, \"#1910d8\"], [0.1787709497206704, \"#3c19f0\"], [0.2681564245810056, \"#6b1cfb\"], [0.3575418994413408, \"#981cfd\"], [0.44692737430167595, \"#bf1cfd\"], [0.5363128491620112, \"#dd2bfd\"], [0.6256983240223464, \"#f246fe\"], [0.7150837988826816, \"#fc67fd\"], [0.8044692737430168, \"#fe88fc\"], [0.8938547486033519, \"#fea5fd\"], [0.9832402234636871, \"#febefe\"], [1.0, \"#fec3fe\"]], \"type\": \"contour\"}], \"contourcarpet\": [{\"colorbar\": {\"outlinewidth\": 0, \"ticks\": \"\"}, \"type\": \"contourcarpet\"}], \"heatmap\": [{\"colorbar\": {\"outlinewidth\": 0, \"ticks\": \"\"}, \"colorscale\": [[0.0, \"#0508b8\"], [0.0893854748603352, \"#1910d8\"], [0.1787709497206704, \"#3c19f0\"], [0.2681564245810056, \"#6b1cfb\"], [0.3575418994413408, \"#981cfd\"], [0.44692737430167595, \"#bf1cfd\"], [0.5363128491620112, \"#dd2bfd\"], [0.6256983240223464, \"#f246fe\"], [0.7150837988826816, \"#fc67fd\"], [0.8044692737430168, \"#fe88fc\"], [0.8938547486033519, \"#fea5fd\"], [0.9832402234636871, \"#febefe\"], [1.0, \"#fec3fe\"]], \"type\": \"heatmap\"}], \"heatmapgl\": [{\"colorbar\": {\"outlinewidth\": 0, \"ticks\": \"\"}, \"type\": \"heatmapgl\"}], \"histogram\": [{\"marker\": {\"colorbar\": {\"outlinewidth\": 0, \"ticks\": \"\"}}, \"type\": \"histogram\"}], \"histogram2d\": [{\"colorbar\": {\"outlinewidth\": 0, \"ticks\": \"\"}, \"colorscale\": [[0.0, \"#0508b8\"], [0.0893854748603352, \"#1910d8\"], [0.1787709497206704, \"#3c19f0\"], [0.2681564245810056, \"#6b1cfb\"], [0.3575418994413408, \"#981cfd\"], [0.44692737430167595, \"#bf1cfd\"], [0.5363128491620112, \"#dd2bfd\"], [0.6256983240223464, \"#f246fe\"], [0.7150837988826816, \"#fc67fd\"], [0.8044692737430168, \"#fe88fc\"], [0.8938547486033519, \"#fea5fd\"], [0.9832402234636871, \"#febefe\"], [1.0, \"#fec3fe\"]], \"type\": \"histogram2d\"}], \"histogram2dcontour\": [{\"colorbar\": {\"outlinewidth\": 0, \"ticks\": \"\"}, \"colorscale\": [[0.0, \"#0508b8\"], [0.0893854748603352, \"#1910d8\"], [0.1787709497206704, \"#3c19f0\"], [0.2681564245810056, \"#6b1cfb\"], [0.3575418994413408, \"#981cfd\"], [0.44692737430167595, \"#bf1cfd\"], [0.5363128491620112, \"#dd2bfd\"], [0.6256983240223464, \"#f246fe\"], [0.7150837988826816, \"#fc67fd\"], [0.8044692737430168, \"#fe88fc\"], [0.8938547486033519, \"#fea5fd\"], [0.9832402234636871, \"#febefe\"], [1.0, \"#fec3fe\"]], \"type\": \"histogram2dcontour\"}], \"mesh3d\": [{\"colorbar\": {\"outlinewidth\": 0, \"ticks\": \"\"}, \"type\": \"mesh3d\"}], \"parcoords\": [{\"line\": {\"colorbar\": {\"outlinewidth\": 0, \"ticks\": \"\"}}, \"type\": \"parcoords\"}], \"scatter\": [{\"marker\": {\"colorbar\": {\"outlinewidth\": 0, \"ticks\": \"\"}}, \"type\": \"scatter\"}], \"scatter3d\": [{\"marker\": {\"colorbar\": {\"outlinewidth\": 0, \"ticks\": \"\"}}, \"type\": \"scatter3d\"}], \"scattercarpet\": [{\"marker\": {\"colorbar\": {\"outlinewidth\": 0, \"ticks\": \"\"}}, \"type\": \"scattercarpet\"}], \"scattergeo\": [{\"marker\": {\"colorbar\": {\"outlinewidth\": 0, \"ticks\": \"\"}}, \"type\": \"scattergeo\"}], \"scattergl\": [{\"marker\": {\"colorbar\": {\"outlinewidth\": 0, \"ticks\": \"\"}}, \"type\": \"scattergl\"}], \"scattermapbox\": [{\"marker\": {\"colorbar\": {\"outlinewidth\": 0, \"ticks\": \"\"}}, \"type\": \"scattermapbox\"}], \"scatterpolar\": [{\"marker\": {\"colorbar\": {\"outlinewidth\": 0, \"ticks\": \"\"}}, \"type\": \"scatterpolar\"}], \"scatterpolargl\": [{\"marker\": {\"colorbar\": {\"outlinewidth\": 0, \"ticks\": \"\"}}, \"type\": \"scatterpolargl\"}], \"scatterternary\": [{\"marker\": {\"colorbar\": {\"outlinewidth\": 0, \"ticks\": \"\"}}, \"type\": \"scatterternary\"}], \"surface\": [{\"colorbar\": {\"outlinewidth\": 0, \"ticks\": \"\"}, \"type\": \"surface\"}], \"table\": [{\"cells\": {\"fill\": {\"color\": \"#EBF0F8\"}, \"line\": {\"color\": \"white\"}}, \"header\": {\"fill\": {\"color\": \"#C8D4E3\"}, \"line\": {\"color\": \"white\"}}, \"type\": \"table\"}]}, \"layout\": {\"annotationdefaults\": {\"arrowcolor\": \"#506784\", \"arrowhead\": 0, \"arrowwidth\": 1}, \"colorscale\": {\"diverging\": [[0, \"#8e0152\"], [0.1, \"#c51b7d\"], [0.2, \"#de77ae\"], [0.3, \"#f1b6da\"], [0.4, \"#fde0ef\"], [0.5, \"#f7f7f7\"], [0.6, \"#e6f5d0\"], [0.7, \"#b8e186\"], [0.8, \"#7fbc41\"], [0.9, \"#4d9221\"], [1, \"#276419\"]], \"sequential\": [[0.0, \"#0508b8\"], [0.0893854748603352, \"#1910d8\"], [0.1787709497206704, \"#3c19f0\"], [0.2681564245810056, \"#6b1cfb\"], [0.3575418994413408, \"#981cfd\"], [0.44692737430167595, \"#bf1cfd\"], [0.5363128491620112, \"#dd2bfd\"], [0.6256983240223464, \"#f246fe\"], [0.7150837988826816, \"#fc67fd\"], [0.8044692737430168, \"#fe88fc\"], [0.8938547486033519, \"#fea5fd\"], [0.9832402234636871, \"#febefe\"], [1.0, \"#fec3fe\"]], \"sequentialminus\": [[0.0, \"#0508b8\"], [0.0893854748603352, \"#1910d8\"], [0.1787709497206704, \"#3c19f0\"], [0.2681564245810056, \"#6b1cfb\"], [0.3575418994413408, \"#981cfd\"], [0.44692737430167595, \"#bf1cfd\"], [0.5363128491620112, \"#dd2bfd\"], [0.6256983240223464, \"#f246fe\"], [0.7150837988826816, \"#fc67fd\"], [0.8044692737430168, \"#fe88fc\"], [0.8938547486033519, \"#fea5fd\"], [0.9832402234636871, \"#febefe\"], [1.0, \"#fec3fe\"]]}, \"colorway\": [\"#636efa\", \"#EF553B\", \"#00cc96\", \"#ab63fa\", \"#19d3f3\", \"#e763fa\", \"#FECB52\", \"#FFA15A\", \"#FF6692\", \"#B6E880\"], \"font\": {\"color\": \"#2a3f5f\"}, \"geo\": {\"bgcolor\": \"white\", \"lakecolor\": \"white\", \"landcolor\": \"#E5ECF6\", \"showlakes\": true, \"showland\": true, \"subunitcolor\": \"white\"}, \"hoverlabel\": {\"align\": \"left\"}, \"hovermode\": \"closest\", \"mapbox\": {\"style\": \"light\"}, \"paper_bgcolor\": \"white\", \"plot_bgcolor\": \"#E5ECF6\", \"polar\": {\"angularaxis\": {\"gridcolor\": \"white\", \"linecolor\": \"white\", \"ticks\": \"\"}, \"bgcolor\": \"#E5ECF6\", \"radialaxis\": {\"gridcolor\": \"white\", \"linecolor\": \"white\", \"ticks\": \"\"}}, \"scene\": {\"xaxis\": {\"backgroundcolor\": \"#E5ECF6\", \"gridcolor\": \"white\", \"gridwidth\": 2, \"linecolor\": \"white\", \"showbackground\": true, \"ticks\": \"\", \"zerolinecolor\": \"white\"}, \"yaxis\": {\"backgroundcolor\": \"#E5ECF6\", \"gridcolor\": \"white\", \"gridwidth\": 2, \"linecolor\": \"white\", \"showbackground\": true, \"ticks\": \"\", \"zerolinecolor\": \"white\"}, \"zaxis\": {\"backgroundcolor\": \"#E5ECF6\", \"gridcolor\": \"white\", \"gridwidth\": 2, \"linecolor\": \"white\", \"showbackground\": true, \"ticks\": \"\", \"zerolinecolor\": \"white\"}}, \"shapedefaults\": {\"fillcolor\": \"#506784\", \"line\": {\"width\": 0}, \"opacity\": 0.4}, \"ternary\": {\"aaxis\": {\"gridcolor\": \"white\", \"linecolor\": \"white\", \"ticks\": \"\"}, \"baxis\": {\"gridcolor\": \"white\", \"linecolor\": \"white\", \"ticks\": \"\"}, \"bgcolor\": \"#E5ECF6\", \"caxis\": {\"gridcolor\": \"white\", \"linecolor\": \"white\", \"ticks\": \"\"}}, \"title\": {\"x\": 0.05}, \"xaxis\": {\"automargin\": true, \"gridcolor\": \"white\", \"linecolor\": \"white\", \"ticks\": \"\", \"zerolinecolor\": \"white\", \"zerolinewidth\": 2}, \"yaxis\": {\"automargin\": true, \"gridcolor\": \"white\", \"linecolor\": \"white\", \"ticks\": \"\", \"zerolinecolor\": \"white\", \"zerolinewidth\": 2}}}, \"xaxis\": {\"title\": {\"text\": \"Player\"}}, \"yaxis\": {\"title\": {\"text\": \"Wkts\"}}},\n",
       "                        {\"showLink\": false, \"linkText\": \"Export to plot.ly\", \"plotlyServerURL\": \"https://plot.ly\", \"responsive\": true}\n",
       "                    ).then(function(){\n",
       "                            \n",
       "var gd = document.getElementById('6fc4b401-c71d-48ec-8d2e-27058a7655ff');\n",
       "var x = new MutationObserver(function (mutations, observer) {{\n",
       "        var display = window.getComputedStyle(gd).display;\n",
       "        if (!display || display === 'none') {{\n",
       "            console.log([gd, 'removed!']);\n",
       "            Plotly.purge(gd);\n",
       "            observer.disconnect();\n",
       "        }}\n",
       "}});\n",
       "\n",
       "// Listen for the removal of the full notebook cells\n",
       "var notebookContainer = gd.closest('#notebook-container');\n",
       "if (notebookContainer) {{\n",
       "    x.observe(notebookContainer, {childList: true});\n",
       "}}\n",
       "\n",
       "// Listen for the clearing of the current output cell\n",
       "var outputEl = gd.closest('.output');\n",
       "if (outputEl) {{\n",
       "    x.observe(outputEl, {childList: true});\n",
       "}}\n",
       "\n",
       "                        })\n",
       "                };\n",
       "                });\n",
       "            </script>\n",
       "        </div>"
      ]
     },
     "metadata": {},
     "output_type": "display_data"
    }
   ],
   "source": [
    "px.scatter(wickets_data[:10],x='Player',y='Wkts',color='Country', size='Wkts',size_max=200)"
   ]
  },
  {
   "cell_type": "code",
   "execution_count": null,
   "metadata": {},
   "outputs": [],
   "source": []
  },
  {
   "cell_type": "markdown",
   "metadata": {
    "collapsed": true
   },
   "source": [
    "# congrats yourself !!! clap !!! "
   ]
  }
 ],
 "metadata": {
  "anaconda-cloud": {},
  "kernelspec": {
   "display_name": "Python (bellora)",
   "language": "python",
   "name": "bellora"
  },
  "language_info": {
   "codemirror_mode": {
    "name": "ipython",
    "version": 3
   },
   "file_extension": ".py",
   "mimetype": "text/x-python",
   "name": "python",
   "nbconvert_exporter": "python",
   "pygments_lexer": "ipython3",
   "version": "3.7.1"
  }
 },
 "nbformat": 4,
 "nbformat_minor": 1
}
